{
 "cells": [
  {
   "cell_type": "markdown",
   "source": [
    "# PyDay Chile 2020\n",
    "\n",
    "Puedes descargar el dataset utilizado haciendo click [aquí](https://drive.google.com/u/0/uc?export=download&confirm=9sqH&id=1Ugbsw5XbNRbglomSQO1qkAgMFB_3BzmB)\n",
    "Puedes ver un video explicando este notebook haciendo click [aqui](https://www.youtube.com/watch?v=hKsep8qZTfE&t=178s&ab_channel=PythonChile)"
   ],
   "metadata": {
    "collapsed": false
   }
  },
  {
   "cell_type": "markdown",
   "source": [
    "## 1. Análisis Exploratorio de los datos (EDA)\n",
    "\n",
    "### <font color=Blue>__¿Qué es el Análisis Exploratorio de Datos?__</font>\n",
    "\n",
    "Analisis Exploratorio de los Datos o EDA (en ingles, 'Exploratory Data Analysis') es un paso previo e imprescindible a\n",
    "la hora de comprender los datos con los que se va a trabajar y altamente recomendable para una\n",
    "correcta metodología de investigación.\n",
    "\n",
    "El objetivo de este análisis es explorar, describir, resumir y visualizar la naturaleza de los datos recogidos en\n",
    "las variables del proyecto o investigación de interés, mediante la aplicación de técnicas simples de resumen de datos y\n",
    "métodos gráficos sin asumir asunciones para su interpretación.\n",
    "Luego de la Adquisicion de los datos, el EDA es el tercer paso en todo proyecto de Analisis de Datos.\n",
    "\n",
    "Las principales herramientas que usaremos para realizar este análisis seran: `Pandas` y `SciKit Learn` para manipular los datos\n",
    "asi como `Matplotlib` y `Seaborn` para su visualización."
   ],
   "metadata": {
    "collapsed": false
   }
  },
  {
   "cell_type": "code",
   "execution_count": null,
   "outputs": [],
   "source": [
    "# Importamos las librerías\n",
    "import numpy as np\n",
    "import pandas as pd\n",
    "import matplotlib.pyplot as plt\n",
    "import seaborn as sns"
   ],
   "metadata": {
    "collapsed": false,
    "pycharm": {
     "name": "#%%\n"
    }
   }
  },
  {
   "cell_type": "code",
   "execution_count": null,
   "outputs": [],
   "source": [
    "df = pd.read_csv('tmp/data/DS_Proyecto_01_Datos_Properati.csv', parse_dates=['end_date'])\n",
    "df.info()"
   ],
   "metadata": {
    "collapsed": false,
    "pycharm": {
     "name": "#%%\n"
    }
   }
  },
  {
   "cell_type": "markdown",
   "source": [
    "### <font color=Blue>__Arreglando los datatypes__</font>"
   ],
   "metadata": {
    "collapsed": false
   }
  },
  {
   "cell_type": "code",
   "execution_count": null,
   "outputs": [],
   "source": [
    "df.end_date.sample(5)"
   ],
   "metadata": {
    "collapsed": false,
    "pycharm": {
     "name": "#%%\n"
    }
   }
  },
  {
   "cell_type": "code",
   "execution_count": null,
   "outputs": [],
   "source": [
    "df.bedrooms.sample(5)"
   ],
   "metadata": {
    "collapsed": false,
    "pycharm": {
     "name": "#%%\n"
    }
   }
  },
  {
   "cell_type": "code",
   "execution_count": null,
   "outputs": [],
   "source": [
    "# dates to datetime\n",
    "dates = ['start_date', 'end_date', 'created_on']\n",
    "for i in dates:\n",
    "    df[i] = pd.to_datetime(df[i], yearfirst=True, errors='coerce') #algunas end_date no terminaron\n",
    "\n",
    "# to integer\n",
    "for amb in ['rooms', 'bedrooms', 'bathrooms']:\n",
    "    df[amb] = df[amb].astype(int, errors='ignore')\n",
    "\n",
    "df.info()"
   ],
   "metadata": {
    "collapsed": false,
    "pycharm": {
     "name": "#%%\n"
    }
   }
  },
  {
   "cell_type": "code",
   "execution_count": null,
   "outputs": [],
   "source": [
    "# Estadistica descriptiva de variables cuantitativas\n",
    "df.describe().round(2)"
   ],
   "metadata": {
    "collapsed": false,
    "pycharm": {
     "name": "#%%\n"
    }
   }
  },
  {
   "cell_type": "code",
   "execution_count": null,
   "outputs": [],
   "source": [
    "# Casos nulos por feature (%)\n",
    "(df.isna().sum() / df.shape[0] * 100).sort_values(ascending=False).round(1)"
   ],
   "metadata": {
    "collapsed": false,
    "pycharm": {
     "name": "#%%\n"
    }
   }
  },
  {
   "cell_type": "code",
   "execution_count": null,
   "outputs": [],
   "source": [
    "plt.figure(figsize = (14,6))\n",
    "chart = sns.countplot(data = df,\n",
    "                      y = \"property_type\",\n",
    "                      order= df.property_type.value_counts().index)\n",
    "chart.set(xlabel = None, ylabel = 'Cantidad')\n",
    "plt.title('Cantidad de propiedades por tipo')\n",
    "plt.show()"
   ],
   "metadata": {
    "collapsed": false,
    "pycharm": {
     "name": "#%%\n"
    }
   }
  },
  {
   "cell_type": "markdown",
   "source": [
    "**Conclusión**\n",
    "\n",
    "Departamentos, PH y Casa son los únicos tipos de propiedad que tienen volumen de datos suficientes como para trabajar"
   ],
   "metadata": {
    "collapsed": false
   }
  },
  {
   "cell_type": "code",
   "execution_count": null,
   "outputs": [],
   "source": [
    "# Publicaciones por zona\n",
    "plt.figure(figsize = (12,7))\n",
    "l2 = sns.countplot(data=df,\n",
    "                   x=\"l2\",\n",
    "                   order=df.l2.value_counts().index)\n",
    "l2.set(xlabel = None, ylabel = 'Cantidad')\n",
    "plt.title('Cantidad de inmuebles por zona')\n",
    "plt.show()"
   ],
   "metadata": {
    "collapsed": false,
    "pycharm": {
     "name": "#%%\n"
    }
   }
  },
  {
   "cell_type": "code",
   "execution_count": null,
   "outputs": [],
   "source": [
    "# Top 30 barrios mas publicados\n",
    "plt.figure(figsize = (10,12))\n",
    "l3 = sns.countplot(data=df,y=\"l3\",\n",
    "                   order = df['l3'].value_counts().index[:30],\n",
    "                   hue='l2',\n",
    "                   hue_order= df.l2.value_counts().index, # Por que quiero el mismo color que arriba\n",
    "                   dodge=False\n",
    "                  )\n",
    "l3.set_xlabel('Cantidad')\n",
    "l3.set_ylabel('Barrio')\n",
    "l3.legend(title='Zona', loc='center right')\n",
    "plt.title('Cantidad de inmuebles por barrio (Top 30)')\n",
    "plt.tight_layout()\n",
    "plt.show()"
   ],
   "metadata": {
    "collapsed": false,
    "pycharm": {
     "name": "#%%\n"
    }
   }
  },
  {
   "cell_type": "code",
   "execution_count": null,
   "outputs": [],
   "source": [
    "# Cantidad de barrios unicos publicados por zona\n",
    "df.groupby('l2')['l3'].nunique()"
   ],
   "metadata": {
    "collapsed": false,
    "pycharm": {
     "name": "#%%\n"
    }
   }
  },
  {
   "cell_type": "markdown",
   "source": [
    "**Conclusión**\n",
    "\n",
    "Capital Federal es la zona que tiene mayor cantidad de propiedades.<br>\n",
    "De los 5 barrios mas publicados, 4 corresponden a la Capital.<br>\n",
    "En Promedio, la Capital Federal reporta 5 veces mas barrios distintos que las otras zonas.<br>"
   ],
   "metadata": {
    "collapsed": false
   }
  },
  {
   "cell_type": "code",
   "execution_count": null,
   "outputs": [],
   "source": [
    "def filter_outliers(col, percentiles = [.025, .975]):\n",
    "    filter_col = col[(col > col.quantile(percentiles[0])) &\n",
    "                     (col < col.quantile(percentiles[1]))\n",
    "                        ]\n",
    "    return filter_col.index"
   ],
   "metadata": {
    "collapsed": false,
    "pycharm": {
     "name": "#%%\n"
    }
   }
  },
  {
   "cell_type": "code",
   "execution_count": null,
   "outputs": [],
   "source": [
    "columns = ['surface_total', 'surface_covered','price']\n",
    "order = df.property_type.value_counts().index\n",
    "fig, axs = plt.subplots(2,3,figsize=(14,12))\n",
    "\n",
    "for n,col in enumerate(columns):\n",
    "    filter_df = df.iloc[filter_outliers(df[col])]\n",
    "\n",
    "    axs[0,n].set_title(f'Original: {col}')\n",
    "    sns.boxplot(data = df,\n",
    "                y='property_type',\n",
    "                x=col,\n",
    "                order=order,\n",
    "                ax=axs[0,n])\n",
    "    if n > 0:\n",
    "        axs[0,n].set_yticks([])\n",
    "    axs[0,n].set_xlabel(None)\n",
    "    axs[0,n].set_ylabel(None)\n",
    "\n",
    "    axs[1,n].set_title(f'Filtrada: {col}')\n",
    "    sns.boxplot(data = filter_df,\n",
    "                y='property_type',\n",
    "                x=col,\n",
    "                order=order,\n",
    "                ax=axs[1,n])\n",
    "    if n > 0:\n",
    "        axs[1,n].set_yticks([])\n",
    "    axs[1,n].set_ylabel(None)\n",
    "    axs[1,n].set_xlabel(None)\n",
    "\n",
    "\n",
    "fig.suptitle('Análisis de valores con y sin filtro entre percentil 2.5 y 97.5', y=1, size=18)\n",
    "plt.tight_layout()\n",
    "plt.show()"
   ],
   "metadata": {
    "collapsed": false,
    "pycharm": {
     "name": "#%%\n"
    }
   }
  },
  {
   "cell_type": "markdown",
   "source": [
    "**Conclusión**\n",
    "\n",
    "Estos gráficos filtados nos permiten permiten identificar según el tipo de propiedad la dispersión de los features.\n",
    "Sin filtrar, las propiedades de `surface_covered`, `surface_total` y `price` tenían valores muy altos y bajos\n",
    "según el `sns.boxplot()` y `pd.describe()`.<br>\n",
    "Para ellos, filtramos entre percentil 2.5 y 97.5 a modo de quitar valores atípicos de: <br>\n",
    "`price` (vimos precios minimos de USD 6.000 que son incongruentes con los valores de CABA), <br>\n",
    "`surface_covered` (vimos propiedades que tienen 1mt2 de superficie cubierta que es incongruente con CABA) y <br>\n",
    "`surface_total`(vimos valores de superficie total de 13mts, incogruente con Casas, PH y Departamentos en CABA)."
   ],
   "metadata": {
    "collapsed": false
   }
  },
  {
   "cell_type": "markdown",
   "source": [
    "### <font color=Blue>__Correlación__</font>"
   ],
   "metadata": {
    "collapsed": false
   }
  },
  {
   "cell_type": "code",
   "execution_count": null,
   "outputs": [],
   "source": [
    "corr = df.corr()\n",
    "plt.figure(figsize=(12,8))\n",
    "sns.heatmap(corr, cbar = True,  square = True, annot=True, fmt= '.2f',annot_kws={'size': 11}, cmap= 'Blues')\n",
    "plt.title('Matrix de correlación')\n",
    "plt.show()"
   ],
   "metadata": {
    "collapsed": false,
    "pycharm": {
     "name": "#%%\n"
    }
   }
  },
  {
   "cell_type": "markdown",
   "source": [
    "### <font color=Blue>__Filtrado del Dataset__</font>"
   ],
   "metadata": {
    "collapsed": false
   }
  },
  {
   "cell_type": "markdown",
   "source": [
    "- Seleccionamos aquellas propiedades en Capital Federal y cuyo tipo de propiedad es Departamento, PH o Casa.\n",
    "- Seleccionamos aquellas propiedades cuya superficie total es menor a 1000 m2 y mayor a 15 m2.\n",
    "- Descartamos aquellas propiedades cuya sup. cubierta sea mayor a la sup. total.\n",
    "- Seleccionamos aquellas propiedades cuya precio es menor 4000000 dólares.\n",
    "- Seleccionamos solamente las columnas `rooms`, `bedrooms`, `bathrooms`, `surface_total`, `surface_covered` y `price`.\n",
    "- Descartamos aquellas instacias con valores faltantes (ver [missing value imputation](https://towardsdatascience.com/6-different-ways-to-compensate-for-missing-values-data-imputation-with-examples-6022d9ca0779) para alternativas)"
   ],
   "metadata": {
    "collapsed": false
   }
  },
  {
   "cell_type": "code",
   "execution_count": null,
   "outputs": [],
   "source": [
    "property_filter = ['Departamento', 'PH', 'Casa']\n",
    "df = df[(df.property_type.isin(property_filter)) & (df.l2 == \"Capital Federal\")]\n",
    "df = df[(df.surface_total >= 15) & (df.surface_total <= 1000)]\n",
    "df = df[(df.price <= 4000000)]\n",
    "df = df[df.surface_total >= df.surface_covered]\n",
    "columns = ['rooms', 'bedrooms', 'bathrooms', 'surface_total', 'surface_covered','price']\n",
    "df = df[columns]\n",
    "df.dropna(inplace=True)\n",
    "df.shape"
   ],
   "metadata": {
    "collapsed": false,
    "pycharm": {
     "name": "#%%\n"
    }
   }
  },
  {
   "cell_type": "code",
   "execution_count": null,
   "outputs": [],
   "source": [
    "sns.pairplot(df)\n",
    "plt.show()"
   ],
   "metadata": {
    "collapsed": false,
    "pycharm": {
     "name": "#%%\n"
    }
   }
  },
  {
   "cell_type": "code",
   "execution_count": null,
   "outputs": [],
   "source": [
    "# Correlación luego de filtrar\n",
    "corr = df.corr()\n",
    "plt.figure(figsize=(12,8))\n",
    "sns.heatmap(corr, cbar = True,  square = True, annot=True, fmt= '.2f',annot_kws={'size': 11}, cmap= 'Blues')\n",
    "plt.title('Matrix de correlación (filtrado)')\n",
    "plt.show()"
   ],
   "metadata": {
    "collapsed": false,
    "pycharm": {
     "name": "#%%\n"
    }
   }
  },
  {
   "cell_type": "markdown",
   "source": [
    "### 2. Entrenando un modelo de Machine Learning con Python\n",
    "![Machine Learning](https://raw.githubusercontent.com/joaquinmenendez/PyDay_Chile_Acamica/main/tmp/images/ML.png)"
   ],
   "metadata": {
    "collapsed": false
   }
  },
  {
   "cell_type": "markdown",
   "source": [
    "### <font color=Blue>__Features y Target (X & y)__</font>"
   ],
   "metadata": {
    "collapsed": false
   }
  },
  {
   "cell_type": "code",
   "execution_count": null,
   "outputs": [],
   "source": [
    "X = df[['rooms', 'bedrooms', 'bathrooms', 'surface_total', 'surface_covered' ]]\n",
    "y = df.price"
   ],
   "metadata": {
    "collapsed": false,
    "pycharm": {
     "name": "#%%\n"
    }
   }
  },
  {
   "cell_type": "markdown",
   "source": [
    "### <font color=Blue>__Test & Train set__</font>"
   ],
   "metadata": {
    "collapsed": false
   }
  },
  {
   "cell_type": "code",
   "execution_count": null,
   "outputs": [],
   "source": [
    "from sklearn.model_selection import train_test_split\n",
    "from sklearn.preprocessing import StandardScaler\n",
    "from sklearn.neighbors import KNeighborsRegressor\n",
    "from sklearn.metrics import mean_squared_error\n",
    "from sklearn.metrics import mean_absolute_error\n",
    "\n",
    "X_train, X_test, y_train, y_test = train_test_split(X, y, test_size=0.30, random_state=42)\n",
    "scaler = StandardScaler()"
   ],
   "metadata": {
    "collapsed": false,
    "pycharm": {
     "name": "#%%\n"
    }
   }
  },
  {
   "cell_type": "code",
   "execution_count": null,
   "outputs": [],
   "source": [
    "# Escalamos nuestros datos\n",
    "X_train = scaler.fit_transform(X_train)\n",
    "X_test = scaler.transform(X_test)"
   ],
   "metadata": {
    "collapsed": false,
    "pycharm": {
     "name": "#%%\n"
    }
   }
  },
  {
   "cell_type": "markdown",
   "source": [
    "### <font color=Blue>__KNN (K-Nearest Neighbors)__</font>\n",
    "\n",
    "**IDEA**<br>\n",
    "Dada una nueva instancia de la cual no conocemos la etiqueta objetivo, vamos a asumir que su etiqueta será igual a la de\n",
    " las instancias “vecinas” en el training set.\n",
    "\n",
    "O dicho de otra forma...\n",
    "> Dime con quién andas y te diré quien eres.\n",
    "\n",
    "![knn](https://miro.medium.com/max/1080/0*49s1xDlDKDsn55xa.gif)<br>\n",
    "*Ejemplo gráfico del algoritmo de KNN*"
   ],
   "metadata": {
    "collapsed": false
   }
  },
  {
   "cell_type": "markdown",
   "source": [
    "### <font color=Blue>Hyperparameter tuning - Buscamos el mejor valor de vecinos</font>"
   ],
   "metadata": {
    "collapsed": false
   }
  },
  {
   "cell_type": "code",
   "execution_count": null,
   "outputs": [],
   "source": [
    "list_mae_train = []\n",
    "list_mae_test = []\n",
    "list_rmse_train = []\n",
    "list_rmse_test = []\n",
    "\n",
    "k_vecinos = range(1, 30)\n",
    "\n",
    "for k in k_vecinos:\n",
    "\n",
    "    clf = KNeighborsRegressor(n_neighbors= k, weights= 'distance')\n",
    "\n",
    "    clf.fit(X_train, y_train)\n",
    "\n",
    "    # Predecir y evaluar sobre el set de entrenamiento\n",
    "    y_train_pred = clf.predict(X_train)\n",
    "    train_mae =  mean_absolute_error(y_train_pred, y_train)\n",
    "    train_rmse =  np.sqrt(mean_squared_error(y_train_pred, y_train))\n",
    "\n",
    "    # Predecir y evaluar sobre el set de evaluación\n",
    "    y_test_pred = clf.predict(X_test)\n",
    "    test_mae = mean_absolute_error(y_test_pred,y_test)\n",
    "    test_rmse = np.sqrt(mean_squared_error(y_test_pred, y_test))\n",
    "\n",
    "    list_mae_train.append(train_mae)\n",
    "    list_mae_test.append(test_mae)\n",
    "    list_rmse_train.append(train_rmse)\n",
    "    list_rmse_test.append(test_rmse)"
   ],
   "metadata": {
    "collapsed": false,
    "pycharm": {
     "name": "#%%\n"
    }
   }
  },
  {
   "cell_type": "code",
   "execution_count": null,
   "outputs": [],
   "source": [
    "fig, axs = plt.subplots(1,2, figsize=(14,6))\n",
    "# MAE\n",
    "axs[0].plot(k_vecinos, list_mae_train,'o-', c='r', label='MAE Train')\n",
    "axs[0].plot(k_vecinos, list_mae_test,'o-',c='b', label='MAE Test')\n",
    "axs[0].legend()\n",
    "axs[0].grid(k_vecinos)\n",
    "axs[0].set_xlabel('Vecinos')\n",
    "axs[0].set_ylabel('Error')\n",
    "axs[0].set_title('MAE ~ K')\n",
    "#RMSE\n",
    "axs[1].plot(k_vecinos, list_rmse_train,'o-',c='r', label='RMSE Train')\n",
    "axs[1].plot(k_vecinos, list_rmse_test,'o-',c='b', label='RMSE Test')\n",
    "axs[1].legend()\n",
    "axs[1].grid(k_vecinos)\n",
    "axs[1].set_xlabel('Vecinos')\n",
    "axs[1].set_ylabel('Error')\n",
    "axs[1].set_title('RMSE ~ K')\n",
    "\n",
    "plt.show()"
   ],
   "metadata": {
    "collapsed": false,
    "pycharm": {
     "name": "#%%\n"
    }
   }
  },
  {
   "cell_type": "markdown",
   "source": [
    "### <font color=Blue>Definimos la configuración final del modelo</font>"
   ],
   "metadata": {
    "collapsed": false
   }
  },
  {
   "cell_type": "code",
   "execution_count": null,
   "outputs": [],
   "source": [
    "knn_regressor = KNeighborsRegressor(n_neighbors=7, weights='distance')\n",
    "knn_regressor.fit(X_train, y_train)\n",
    "\n",
    "y_train_pred = knn_regressor.predict(X_train)\n",
    "y_test_pred = knn_regressor.predict(X_test)\n",
    "\n",
    "rmse_train = np.sqrt(mean_squared_error(y_train, y_train_pred))\n",
    "rmse_test = np.sqrt(mean_squared_error(y_test, y_test_pred))\n",
    "mae_train = mean_absolute_error(y_train, y_train_pred)\n",
    "mae_test = mean_absolute_error(y_test, y_test_pred)\n",
    "\n",
    "print('Root Mean Squared Error en Train:',\"%.0f\" % rmse_train)\n",
    "print('Root Mean Squared Error en Test:',\"%.0f\" % rmse_test)\n",
    "print('Mean Absolute Error en Train:',\"%.0f\" % mae_train)\n",
    "print('Mean Absolute Error en Test:',\"%.0f\" % mae_test)"
   ],
   "metadata": {
    "collapsed": false,
    "pycharm": {
     "name": "#%%\n"
    }
   }
  },
  {
   "cell_type": "markdown",
   "source": [
    "### <font color=Blue>Graficamos la dispersión del error</font>"
   ],
   "metadata": {
    "collapsed": false
   }
  },
  {
   "cell_type": "code",
   "execution_count": null,
   "outputs": [],
   "source": [
    "fig, ax = plt.subplots(figsize=(10,10))\n",
    "\n",
    "ax.scatter(y_test,y_test_pred, alpha = 0.4)\n",
    "\n",
    "lims = [\n",
    "    np.min([ax.get_xlim(), ax.get_ylim()]),\n",
    "    np.max([ax.get_xlim(), ax.get_ylim()]),\n",
    "    ]\n",
    "\n",
    "ax.plot(lims, lims, 'k-', alpha=0.3, zorder=1, color='b')\n",
    "\n",
    "plt.xlabel('y (test)')\n",
    "plt.ylabel('y_pred (test)')\n",
    "plt.title('Dispersion del error', size=16)\n",
    "plt.show()"
   ],
   "metadata": {
    "collapsed": false,
    "pycharm": {
     "name": "#%%\n"
    }
   }
  },
  {
   "cell_type": "markdown",
   "source": [
    "## 3. Puesta en Producción del modelo\n",
    "Una vez que definimos el modelo, tuneamos sus hiper parámetros y estamos conformes con el\n",
    "resultado de sus métricas entrenámos con todos los datos disponibles, guardamos este modelo fianl y lo insertamos en una clase.\n",
    "\n",
    "### <font color=Blue>__Entrenamos con todos nuestros datos__</font>"
   ],
   "metadata": {
    "collapsed": false
   }
  },
  {
   "cell_type": "code",
   "execution_count": null,
   "outputs": [],
   "source": [
    "scaler_final = StandardScaler()\n",
    "X = scaler_final.fit_transform(X)\n",
    "knn_regressor = KNeighborsRegressor(n_neighbors=7, weights='distance')\n",
    "knn_regressor.fit(X, y)\n",
    "model = {\"modelo\":knn_regressor,\n",
    "         \"scaler\":scaler_final}"
   ],
   "metadata": {
    "collapsed": false,
    "pycharm": {
     "name": "#%%\n"
    }
   }
  },
  {
   "cell_type": "markdown",
   "source": [
    "### <font color=Blue>__Guardamos el modelo y el StandardScaler__</font>"
   ],
   "metadata": {
    "collapsed": false
   }
  },
  {
   "cell_type": "code",
   "execution_count": null,
   "outputs": [],
   "source": [
    "import pickle\n",
    "with open('./tmp/model.pickle','wb') as file:\n",
    "    pickle.dump(model, file)"
   ],
   "metadata": {
    "collapsed": false,
    "pycharm": {
     "name": "#%%\n"
    }
   }
  },
  {
   "cell_type": "markdown",
   "source": [
    "### <font color=Blue>__Definimos una clase para devolver futuras predicciones__</font>"
   ],
   "metadata": {
    "collapsed": false
   }
  },
  {
   "cell_type": "code",
   "execution_count": null,
   "outputs": [],
   "source": [
    "# Definimos una clase llamada Property\n",
    "class Property:\n",
    "\n",
    "    def __init__(self):\n",
    "        # To make the instantiation more interactive we will use `input`\n",
    "        self.rooms = int(input(\"Rooms: \"))\n",
    "        self.bedrooms = int(input(\"Bedrooms: \"))\n",
    "        self.bathrooms = int(input(\"Bathrooms: \"))\n",
    "        self.surface_total = int(input(\"Surface Total (m2): \"))\n",
    "        self.surface_covered = int(input(\"Surface Covered (m2): \"))\n",
    "\n",
    "    def __repr__(self):\n",
    "        return (f'{self.__class__.__name__}('\n",
    "                f'{self.rooms}, {self.bedrooms}, {self.bathrooms}, '\n",
    "                f'{self.surface_total}, {self.surface_covered})')\n",
    "\n",
    "\n",
    "    def predictValue(self, printable = False):\n",
    "        \"\"\"\n",
    "        Returns an estimate price in dollars for the property\n",
    "        :param printable: Bool - Default: False. Prints a message with the estimated value\n",
    "        :return: float\n",
    "        \"\"\"\n",
    "        # Create an array with the object attributes\n",
    "        property_values = [att for att in self.__dict__.values()]\n",
    "        property_values = np.array(property_values).reshape(1, -1)\n",
    "        property_values = model[\"scaler\"].transform(property_values)\n",
    "        price_pred = model[\"modelo\"].predict(property_values)[0] #It's only one value\n",
    "        if printable:\n",
    "            print(f'Esta propiedad tiene un valor estimado de: {price_pred:.0f}')\n",
    "        else:\n",
    "            return price_pred"
   ],
   "metadata": {
    "collapsed": false,
    "pycharm": {
     "name": "#%%\n"
    }
   }
  },
  {
   "cell_type": "markdown",
   "source": [
    "### <font color=Blue>Propiedad de prueba</font>"
   ],
   "metadata": {
    "collapsed": false
   }
  },
  {
   "cell_type": "markdown",
   "source": [
    "Propiedad publicada en [Zonaprop](https://www.zonaprop.com.ar/propiedades/departamento-3-ambientes.-las-heras-al-2300-46602803.html)\n",
    "\n",
    "**Características**\n",
    "- 3 Ambientes\n",
    "- 2 Dormitorios\n",
    "- 2 Baños\n",
    "- Total 82 m²\n",
    "- Cubierta 82 m²\n",
    "\n",
    "USD 249.000"
   ],
   "metadata": {
    "collapsed": false
   }
  },
  {
   "cell_type": "code",
   "execution_count": null,
   "outputs": [],
   "source": [
    "# Inicializamos nuestra clase\n",
    "nueva_prop = Property()\n",
    "nueva_prop"
   ],
   "metadata": {
    "collapsed": false,
    "pycharm": {
     "name": "#%%\n"
    }
   }
  },
  {
   "cell_type": "code",
   "execution_count": null,
   "outputs": [],
   "source": [
    "# Estimamos el valor\n",
    "nueva_prop.predictValue(printable=True)\n",
    "\n"
   ],
   "metadata": {
    "collapsed": false,
    "pycharm": {
     "name": "#%%\n"
    }
   }
  }
 ],
 "metadata": {
  "kernelspec": {
   "display_name": "Python 3",
   "language": "python",
   "name": "python3"
  },
  "language_info": {
   "codemirror_mode": {
    "name": "ipython",
    "version": 2
   },
   "file_extension": ".py",
   "mimetype": "text/x-python",
   "name": "python",
   "nbconvert_exporter": "python",
   "pygments_lexer": "ipython2",
   "version": "2.7.6"
  }
 },
 "nbformat": 4,
 "nbformat_minor": 0
}