{
 "cells": [
  {
   "cell_type": "code",
   "execution_count": 1,
   "metadata": {
    "id": "fCGVacN5C4OM"
   },
   "outputs": [],
   "source": [
    "import numpy as np\n",
    "import pandas as pd\n",
    "import matplotlib.pyplot as plt\n",
    "import seaborn as sns\n",
    "import warnings; warnings.simplefilter('ignore')\n",
    "\n",
    "# Recomendación: En Jupyter Lab instalar la extensión @aquirdturtle/collapsible_headings para una mejor visualización y orden"
   ]
  },
  {
   "cell_type": "markdown",
   "metadata": {},
   "source": [
    "__IMPORTANTE__: Simplifiqué los pasos del proyecto 1 a modo de poder tener un notebook más concreto"
   ]
  },
  {
   "cell_type": "markdown",
   "metadata": {},
   "source": [
    "# <font color=Blue>__Tasador con Machine Learning__</font>"
   ]
  },
  {
   "cell_type": "markdown",
   "metadata": {},
   "source": [
    "#### __0 - Dataset Original y filtro__"
   ]
  },
  {
   "cell_type": "code",
   "execution_count": 5,
   "metadata": {},
   "outputs": [
    {
     "name": "stdout",
     "output_type": "stream",
     "text": [
      "El dataset original que vamos a usar tiene 19 columnas y 146660 filas\n"
     ]
    }
   ],
   "source": [
    "df = pd.read_csv('/Users/juanchi/Documents/Data Science/Curso/Proyecto 1/DS_Proyecto_01_Datos_Properati.csv')\n",
    "print('El dataset original que vamos a usar tiene', df.shape[1], 'columnas y', df.shape[0], 'filas')"
   ]
  },
  {
   "cell_type": "markdown",
   "metadata": {},
   "source": [
    "Vamos a filtrar por propiedades en CABA que sean PHs, Casas y Departamentos al igual que en el proyecto 1, e incluir los atributos de Latitud, Longitud y Tipo de propiedad. Vamos a sumar el barrio también para inputar luego valores faltantes de Latitud y longitud. No vamos a filtrar nada más por el momento. "
   ]
  },
  {
   "cell_type": "code",
   "execution_count": 6,
   "metadata": {},
   "outputs": [
    {
     "name": "stdout",
     "output_type": "stream",
     "text": [
      "El dataset filtrado df2 (Deptos, PH, CASA en CABA) tiene 10 columnas y 91485 filas\n"
     ]
    },
    {
     "data": {
      "text/plain": [
       "rooms                 0\n",
       "bedrooms              0\n",
       "bathrooms          2171\n",
       "surface_total      8917\n",
       "surface_covered    9235\n",
       "price                 0\n",
       "property_type         0\n",
       "lat                4534\n",
       "lon                4548\n",
       "l3                    0\n",
       "dtype: int64"
      ]
     },
     "execution_count": 6,
     "metadata": {},
     "output_type": "execute_result"
    }
   ],
   "source": [
    "# Filtro tipo de propiedad en Capital Federal\n",
    "\n",
    "property_filter = ['Departamento', 'PH', 'Casa']\n",
    "df2 = df[(df.property_type.isin(property_filter)) & (df.l2 == \"Capital Federal\")]\n",
    "\n",
    "# Columnas elegidas (sumamos Lat, lon y property_type por lo visto en el P1)\n",
    "columns = ['rooms', 'bedrooms', 'bathrooms', 'surface_total', 'surface_covered', \n",
    "           'price', 'property_type', 'lat', 'lon', 'l3' ] \n",
    "\n",
    "#Filtro final\n",
    "df2 = df2[columns]\n",
    "\n",
    "print('El dataset filtrado df2 (Deptos, PH, CASA en CABA) tiene', \n",
    "      df2.shape[1], 'columnas y', df2.shape[0], 'filas')\n",
    "\n",
    "df2.isna().sum()"
   ]
  },
  {
   "cell_type": "markdown",
   "metadata": {},
   "source": [
    "#### __1 - Detección y eliminación de Outliers__"
   ]
  },
  {
   "cell_type": "markdown",
   "metadata": {},
   "source": [
    "##### __EDA Express__"
   ]
  },
  {
   "cell_type": "markdown",
   "metadata": {},
   "source": [
    "El primer paso antes de pasar a la parte de los modelos es eliminar posibles outliers a modo de luego poder hacer otro tipo de procesamientos de los datos. ¿Por qué primero? Porque con outliers al hacer un input de datos faltantes con la media pueden ser conflictivo y alterar mucho el resultado. "
   ]
  },
  {
   "cell_type": "code",
   "execution_count": 7,
   "metadata": {},
   "outputs": [
    {
     "data": {
      "text/html": [
       "<div>\n",
       "<style scoped>\n",
       "    .dataframe tbody tr th:only-of-type {\n",
       "        vertical-align: middle;\n",
       "    }\n",
       "\n",
       "    .dataframe tbody tr th {\n",
       "        vertical-align: top;\n",
       "    }\n",
       "\n",
       "    .dataframe thead th {\n",
       "        text-align: right;\n",
       "    }\n",
       "</style>\n",
       "<table border=\"1\" class=\"dataframe\">\n",
       "  <thead>\n",
       "    <tr style=\"text-align: right;\">\n",
       "      <th></th>\n",
       "      <th>rooms</th>\n",
       "      <th>bedrooms</th>\n",
       "      <th>bathrooms</th>\n",
       "      <th>surface_total</th>\n",
       "      <th>surface_covered</th>\n",
       "      <th>price</th>\n",
       "      <th>lat</th>\n",
       "      <th>lon</th>\n",
       "    </tr>\n",
       "  </thead>\n",
       "  <tbody>\n",
       "    <tr>\n",
       "      <th>count</th>\n",
       "      <td>91485.0</td>\n",
       "      <td>91485.0</td>\n",
       "      <td>89314.0</td>\n",
       "      <td>82568.0</td>\n",
       "      <td>82250.0</td>\n",
       "      <td>91485.0</td>\n",
       "      <td>86951.0</td>\n",
       "      <td>86937.0</td>\n",
       "    </tr>\n",
       "    <tr>\n",
       "      <th>mean</th>\n",
       "      <td>3.0</td>\n",
       "      <td>2.0</td>\n",
       "      <td>1.6</td>\n",
       "      <td>112.6</td>\n",
       "      <td>95.0</td>\n",
       "      <td>259500.3</td>\n",
       "      <td>-34.6</td>\n",
       "      <td>-58.4</td>\n",
       "    </tr>\n",
       "    <tr>\n",
       "      <th>std</th>\n",
       "      <td>1.3</td>\n",
       "      <td>1.1</td>\n",
       "      <td>0.9</td>\n",
       "      <td>980.7</td>\n",
       "      <td>778.5</td>\n",
       "      <td>322265.4</td>\n",
       "      <td>0.0</td>\n",
       "      <td>0.0</td>\n",
       "    </tr>\n",
       "    <tr>\n",
       "      <th>min</th>\n",
       "      <td>1.0</td>\n",
       "      <td>0.0</td>\n",
       "      <td>1.0</td>\n",
       "      <td>10.0</td>\n",
       "      <td>1.0</td>\n",
       "      <td>6000.0</td>\n",
       "      <td>-34.7</td>\n",
       "      <td>-58.5</td>\n",
       "    </tr>\n",
       "    <tr>\n",
       "      <th>25%</th>\n",
       "      <td>2.0</td>\n",
       "      <td>1.0</td>\n",
       "      <td>1.0</td>\n",
       "      <td>49.0</td>\n",
       "      <td>44.0</td>\n",
       "      <td>120000.0</td>\n",
       "      <td>-34.6</td>\n",
       "      <td>-58.5</td>\n",
       "    </tr>\n",
       "    <tr>\n",
       "      <th>50%</th>\n",
       "      <td>3.0</td>\n",
       "      <td>2.0</td>\n",
       "      <td>1.0</td>\n",
       "      <td>71.0</td>\n",
       "      <td>63.0</td>\n",
       "      <td>175000.0</td>\n",
       "      <td>-34.6</td>\n",
       "      <td>-58.4</td>\n",
       "    </tr>\n",
       "    <tr>\n",
       "      <th>75%</th>\n",
       "      <td>4.0</td>\n",
       "      <td>3.0</td>\n",
       "      <td>2.0</td>\n",
       "      <td>111.0</td>\n",
       "      <td>96.0</td>\n",
       "      <td>279000.0</td>\n",
       "      <td>-34.6</td>\n",
       "      <td>-58.4</td>\n",
       "    </tr>\n",
       "    <tr>\n",
       "      <th>max</th>\n",
       "      <td>26.0</td>\n",
       "      <td>15.0</td>\n",
       "      <td>14.0</td>\n",
       "      <td>126062.0</td>\n",
       "      <td>126062.0</td>\n",
       "      <td>32434232.0</td>\n",
       "      <td>-34.5</td>\n",
       "      <td>-58.4</td>\n",
       "    </tr>\n",
       "  </tbody>\n",
       "</table>\n",
       "</div>"
      ],
      "text/plain": [
       "         rooms bedrooms bathrooms surface_total surface_covered       price  \\\n",
       "count  91485.0  91485.0   89314.0       82568.0         82250.0     91485.0   \n",
       "mean       3.0      2.0       1.6         112.6            95.0    259500.3   \n",
       "std        1.3      1.1       0.9         980.7           778.5    322265.4   \n",
       "min        1.0      0.0       1.0          10.0             1.0      6000.0   \n",
       "25%        2.0      1.0       1.0          49.0            44.0    120000.0   \n",
       "50%        3.0      2.0       1.0          71.0            63.0    175000.0   \n",
       "75%        4.0      3.0       2.0         111.0            96.0    279000.0   \n",
       "max       26.0     15.0      14.0      126062.0        126062.0  32434232.0   \n",
       "\n",
       "           lat      lon  \n",
       "count  86951.0  86937.0  \n",
       "mean     -34.6    -58.4  \n",
       "std        0.0      0.0  \n",
       "min      -34.7    -58.5  \n",
       "25%      -34.6    -58.5  \n",
       "50%      -34.6    -58.4  \n",
       "75%      -34.6    -58.4  \n",
       "max      -34.5    -58.4  "
      ]
     },
     "execution_count": 7,
     "metadata": {},
     "output_type": "execute_result"
    }
   ],
   "source": [
    "df2.describe().apply(lambda s: s.apply('{0:.1f}'.format))"
   ]
  },
  {
   "cell_type": "markdown",
   "metadata": {},
   "source": [
    "Vemos valores atípicos de __precio__ como: Máximos de __USD 32.434.232__ y mínimos de __USD 6.000__. <br>\n",
    "Vemos valores atípicos de __superficie total__ como: Máximos de __126.062 mt2__ y mínimos de __10 mt2__.<br>\n",
    "Vemos valores atípicos de __superficie cubierta__ como: Máximos de __126.062 mt2__ y mínimos de __1 mt2__.<br>\n",
    "Vemos valores atípicos de __habitaciones__ como: Máximos de __15 HAB__ y mínimos de __0 HAB__.<br>\n",
    "Vemos valores atípicos de __baños__ como: Máximos de __14 Baños__.<br>\n",
    "Vemos valores atípicos de __ambientes__ como: Máximos de __26 ambientes__.\n",
    "\n",
    "También notamos valores faltantes pero eso lo vamos a resolver luego.\n"
   ]
  },
  {
   "cell_type": "markdown",
   "metadata": {},
   "source": [
    "Vamos a trabajar con métido de __Rango Intercuartílico__ donde cualquier número fuera de este rango (mutiplicado por la constante 1.5 para discernir verdaderos outliers) es un valor atípico. Esto lo haremos sobre __Precio__ y __Superficie Cubierta__ respectivamente a modo de eliminar la mayoría de los outliers y ver cómo responde el dataset a este manejo. En caso de ser necesario trabajaremos sobre los otro features o quitaremos algún valor de forma discrecional.  "
   ]
  },
  {
   "cell_type": "markdown",
   "metadata": {},
   "source": [
    "##### __Funciones__"
   ]
  },
  {
   "cell_type": "code",
   "execution_count": 8,
   "metadata": {},
   "outputs": [],
   "source": [
    "# Filtra por rango IQR * 1.5\n",
    "\n",
    "def iqr (feature, dataframe):\n",
    "    q25,q75 = np.nanpercentile(dataframe[feature].values, [25,75])\n",
    "    iqr = q75 - q25\n",
    "    minimo = round(q25 - 1.5 * iqr)\n",
    "    maximo = round(q75 + 1.5 * iqr)\n",
    "    mascara1 = (dataframe[feature] < minimo) | (dataframe[feature] > maximo)\n",
    "    dataframe = dataframe[~mascara1]\n",
    "    \n",
    "    return dataframe"
   ]
  },
  {
   "cell_type": "markdown",
   "metadata": {},
   "source": [
    "##### __Outliers en columnas__"
   ]
  },
  {
   "cell_type": "code",
   "execution_count": 9,
   "metadata": {},
   "outputs": [
    {
     "data": {
      "text/html": [
       "<div>\n",
       "<style scoped>\n",
       "    .dataframe tbody tr th:only-of-type {\n",
       "        vertical-align: middle;\n",
       "    }\n",
       "\n",
       "    .dataframe tbody tr th {\n",
       "        vertical-align: top;\n",
       "    }\n",
       "\n",
       "    .dataframe thead th {\n",
       "        text-align: right;\n",
       "    }\n",
       "</style>\n",
       "<table border=\"1\" class=\"dataframe\">\n",
       "  <thead>\n",
       "    <tr style=\"text-align: right;\">\n",
       "      <th></th>\n",
       "      <th>rooms</th>\n",
       "      <th>bedrooms</th>\n",
       "      <th>bathrooms</th>\n",
       "      <th>surface_total</th>\n",
       "      <th>surface_covered</th>\n",
       "      <th>price</th>\n",
       "      <th>lat</th>\n",
       "      <th>lon</th>\n",
       "    </tr>\n",
       "  </thead>\n",
       "  <tbody>\n",
       "    <tr>\n",
       "      <th>count</th>\n",
       "      <td>75211.000000</td>\n",
       "      <td>75211.000000</td>\n",
       "      <td>73304.000000</td>\n",
       "      <td>67133.000000</td>\n",
       "      <td>66866.000000</td>\n",
       "      <td>75211.000000</td>\n",
       "      <td>71898.000000</td>\n",
       "      <td>71887.000000</td>\n",
       "    </tr>\n",
       "    <tr>\n",
       "      <th>mean</th>\n",
       "      <td>2.580806</td>\n",
       "      <td>1.660741</td>\n",
       "      <td>1.324880</td>\n",
       "      <td>67.913455</td>\n",
       "      <td>60.534592</td>\n",
       "      <td>177828.476686</td>\n",
       "      <td>-34.599394</td>\n",
       "      <td>-58.437407</td>\n",
       "    </tr>\n",
       "    <tr>\n",
       "      <th>std</th>\n",
       "      <td>0.906342</td>\n",
       "      <td>0.786939</td>\n",
       "      <td>0.567047</td>\n",
       "      <td>28.289927</td>\n",
       "      <td>24.503075</td>\n",
       "      <td>87974.669080</td>\n",
       "      <td>0.023526</td>\n",
       "      <td>0.035314</td>\n",
       "    </tr>\n",
       "    <tr>\n",
       "      <th>min</th>\n",
       "      <td>1.000000</td>\n",
       "      <td>0.000000</td>\n",
       "      <td>1.000000</td>\n",
       "      <td>10.000000</td>\n",
       "      <td>1.000000</td>\n",
       "      <td>7500.000000</td>\n",
       "      <td>-34.696419</td>\n",
       "      <td>-58.530467</td>\n",
       "    </tr>\n",
       "    <tr>\n",
       "      <th>25%</th>\n",
       "      <td>2.000000</td>\n",
       "      <td>1.000000</td>\n",
       "      <td>1.000000</td>\n",
       "      <td>46.000000</td>\n",
       "      <td>42.000000</td>\n",
       "      <td>114000.000000</td>\n",
       "      <td>-34.613799</td>\n",
       "      <td>-58.460145</td>\n",
       "    </tr>\n",
       "    <tr>\n",
       "      <th>50%</th>\n",
       "      <td>3.000000</td>\n",
       "      <td>2.000000</td>\n",
       "      <td>1.000000</td>\n",
       "      <td>62.000000</td>\n",
       "      <td>55.000000</td>\n",
       "      <td>155750.000000</td>\n",
       "      <td>-34.600161</td>\n",
       "      <td>-58.434603</td>\n",
       "    </tr>\n",
       "    <tr>\n",
       "      <th>75%</th>\n",
       "      <td>3.000000</td>\n",
       "      <td>2.000000</td>\n",
       "      <td>2.000000</td>\n",
       "      <td>84.000000</td>\n",
       "      <td>75.000000</td>\n",
       "      <td>223000.000000</td>\n",
       "      <td>-34.585381</td>\n",
       "      <td>-58.412973</td>\n",
       "    </tr>\n",
       "    <tr>\n",
       "      <th>max</th>\n",
       "      <td>4.000000</td>\n",
       "      <td>4.000000</td>\n",
       "      <td>4.000000</td>\n",
       "      <td>154.000000</td>\n",
       "      <td>146.000000</td>\n",
       "      <td>517266.000000</td>\n",
       "      <td>-34.535818</td>\n",
       "      <td>-58.353930</td>\n",
       "    </tr>\n",
       "  </tbody>\n",
       "</table>\n",
       "</div>"
      ],
      "text/plain": [
       "              rooms      bedrooms     bathrooms  surface_total  \\\n",
       "count  75211.000000  75211.000000  73304.000000   67133.000000   \n",
       "mean       2.580806      1.660741      1.324880      67.913455   \n",
       "std        0.906342      0.786939      0.567047      28.289927   \n",
       "min        1.000000      0.000000      1.000000      10.000000   \n",
       "25%        2.000000      1.000000      1.000000      46.000000   \n",
       "50%        3.000000      2.000000      1.000000      62.000000   \n",
       "75%        3.000000      2.000000      2.000000      84.000000   \n",
       "max        4.000000      4.000000      4.000000     154.000000   \n",
       "\n",
       "       surface_covered          price           lat           lon  \n",
       "count     66866.000000   75211.000000  71898.000000  71887.000000  \n",
       "mean         60.534592  177828.476686    -34.599394    -58.437407  \n",
       "std          24.503075   87974.669080      0.023526      0.035314  \n",
       "min           1.000000    7500.000000    -34.696419    -58.530467  \n",
       "25%          42.000000  114000.000000    -34.613799    -58.460145  \n",
       "50%          55.000000  155750.000000    -34.600161    -58.434603  \n",
       "75%          75.000000  223000.000000    -34.585381    -58.412973  \n",
       "max         146.000000  517266.000000    -34.535818    -58.353930  "
      ]
     },
     "execution_count": 9,
     "metadata": {},
     "output_type": "execute_result"
    }
   ],
   "source": [
    "columns = ['price', 'surface_covered', 'surface_total','rooms', 'bedrooms', 'bathrooms' ]\n",
    "\n",
    "for col in columns:\n",
    "    df2 = iqr (col, df2)\n",
    "    \n",
    "df2.describe()"
   ]
  },
  {
   "cell_type": "markdown",
   "metadata": {},
   "source": [
    "#### __2 -  Corrección de valores mal ingresados e Imputación__"
   ]
  },
  {
   "cell_type": "markdown",
   "metadata": {},
   "source": [
    "##### <font color=Blue>__Bedrooms__</font>"
   ]
  },
  {
   "cell_type": "markdown",
   "metadata": {},
   "source": [
    "No tenemos valores NaN pero tenemos valores en 0. Los __bedrooms__ con valor 0 decidimos tratarlos como __NaNs__ e imputar valores. "
   ]
  },
  {
   "cell_type": "code",
   "execution_count": 10,
   "metadata": {},
   "outputs": [
    {
     "name": "stdout",
     "output_type": "stream",
     "text": [
      "1.0    33686\n",
      "2.0    26843\n",
      "3.0    12394\n",
      "0.0     2200\n",
      "4.0       88\n",
      "Name: bedrooms, dtype: int64\n",
      "1.0    2173\n",
      "3.0      12\n",
      "2.0      12\n",
      "4.0       3\n",
      "Name: rooms, dtype: int64\n"
     ]
    }
   ],
   "source": [
    "print(df2.bedrooms.value_counts())\n",
    "print(df2[(df2.bedrooms == 0)].rooms.value_counts())"
   ]
  },
  {
   "cell_type": "code",
   "execution_count": 11,
   "metadata": {},
   "outputs": [
    {
     "data": {
      "text/plain": [
       "1.0    35859\n",
       "2.0    26843\n",
       "3.0    12394\n",
       "4.0       88\n",
       "0.0       27\n",
       "Name: bedrooms, dtype: int64"
      ]
     },
     "execution_count": 11,
     "metadata": {},
     "output_type": "execute_result"
    }
   ],
   "source": [
    "condition = (df2.rooms == 1) & (df2.bedrooms == 0)\n",
    "\n",
    "df2.bedrooms[condition] = df2.bedrooms[condition].replace(0,1)\n",
    "df2.bedrooms.value_counts()"
   ]
  },
  {
   "cell_type": "code",
   "execution_count": 12,
   "metadata": {},
   "outputs": [],
   "source": [
    "df2 = df2[df2.bedrooms > 0]"
   ]
  },
  {
   "cell_type": "markdown",
   "metadata": {},
   "source": [
    "##### <font color=Blue>__Superficie Cubierta y Superficie total__</font>"
   ]
  },
  {
   "cell_type": "markdown",
   "metadata": {},
   "source": [
    "###### Imputación valores __surface_total__ <-> __surface_covered__"
   ]
  },
  {
   "cell_type": "code",
   "execution_count": 13,
   "metadata": {},
   "outputs": [],
   "source": [
    "condition = (df2.surface_covered > df2.surface_total)\n",
    "df2.surface_covered, df2.surface_total = np.where(condition, [df2.surface_total, df2.surface_covered], \n",
    "                                                  [df2.surface_covered, df2.surface_total])"
   ]
  },
  {
   "cell_type": "markdown",
   "metadata": {},
   "source": [
    "###### Imputación valores null en __surface_total__"
   ]
  },
  {
   "cell_type": "code",
   "execution_count": 14,
   "metadata": {},
   "outputs": [
    {
     "data": {
      "image/png": "[encoded data removed]",
      "text/plain": [
       "<Figure size 576x576 with 2 Axes>"
      ]
     },
     "metadata": {
      "needs_background": "light"
     },
     "output_type": "display_data"
    }
   ],
   "source": [
    "corr = df2.corr()\n",
    "plt.figure(figsize=(8,8))\n",
    "sns.heatmap(corr, cbar = True,  square = True, annot=True, fmt= '.2f',annot_kws={'size': 11}, cmap= 'Blues')\n",
    "plt.show()"
   ]
  },
  {
   "cell_type": "markdown",
   "metadata": {},
   "source": [
    "La variable más correlacionada con __surface_total__ es __rooms__. Por lo tanto, la vamos a tomar para imputar los valores de mediana dependiendo las instancias. "
   ]
  },
  {
   "cell_type": "code",
   "execution_count": 15,
   "metadata": {},
   "outputs": [],
   "source": [
    "values_median_rooms = round(df2.groupby('rooms')['surface_total'].median())\n",
    "\n",
    "df2.surface_total = df2.surface_total.fillna(df2.rooms.map(values_median_rooms))"
   ]
  },
  {
   "cell_type": "markdown",
   "metadata": {},
   "source": [
    "###### Imputación valores null en __surface_covered__"
   ]
  },
  {
   "cell_type": "markdown",
   "metadata": {},
   "source": [
    "Sabemos que la correlación entre __surface_covered__ y __surface_total__ es de 92%. Por eso vamos a imputar los valores en con __surface_total__ menos la media de superficie descubierta de intervalos de tamaño de propiedades."
   ]
  },
  {
   "cell_type": "code",
   "execution_count": 16,
   "metadata": {},
   "outputs": [],
   "source": [
    "null = df2.surface_covered.isnull()\n",
    "df2.surface_covered = np.where(null, df2.surface_total, df2.surface_covered)"
   ]
  },
  {
   "cell_type": "markdown",
   "metadata": {},
   "source": [
    "###### Imputación valores atípicos en __surface_covered__ (Que no fueron filtrados por IQR)"
   ]
  },
  {
   "cell_type": "code",
   "execution_count": 17,
   "metadata": {},
   "outputs": [],
   "source": [
    "rare = df2.surface_covered < 13.0\n",
    "df2.surface_covered = np.where(rare, df2.surface_total, df2.surface_covered)\n",
    " \n",
    "df2 = df2.drop(df2[(df2.surface_covered < 13.0)].index)"
   ]
  },
  {
   "cell_type": "markdown",
   "metadata": {},
   "source": [
    "##### <font color=Blue>__Latitud y Longitud__</font>"
   ]
  },
  {
   "cell_type": "markdown",
   "metadata": {},
   "source": [
    "Ya habíamos visto que había 3.409 datos faltantes en __lat__ y 3.423 de __lon__."
   ]
  },
  {
   "cell_type": "code",
   "execution_count": 18,
   "metadata": {},
   "outputs": [],
   "source": [
    "valores_medios_lat = df2.groupby('l3')['lat'].mean()\n",
    "valores_medios_lon = df2.groupby('l3')['lon'].mean()\n",
    "\n",
    "df2.lat = df2.lat.fillna(df2.l3.map(valores_medios_lat))\n",
    "df2.lon = df2.lon.fillna(df2.l3.map(valores_medios_lon))\n",
    "\n",
    "df2 = df2.drop(columns=['l3'])"
   ]
  },
  {
   "cell_type": "code",
   "execution_count": null,
   "metadata": {},
   "outputs": [],
   "source": [
    "df2.describe()"
   ]
  },
  {
   "cell_type": "markdown",
   "metadata": {},
   "source": [
    "##### <font color=Blue>__Price__</font>"
   ]
  },
  {
   "cell_type": "markdown",
   "metadata": {},
   "source": [
    "Por ahora seguimos teniendo valores muy bajos de __price__. La hipótesis que vamos a tomar, basado en búsquedas en intenet de propiedades similares, es que muchas veces se publican precios de inmuebles que aún no han sido construido y son oportunidades de negocio. La otra hipótesis es que simplemente, pueden estar cargados y son alquileres. Según nuestra búsqueda en portales web no existen propiedades de menos de USD 25.000.\n",
    "\n",
    "Ejemplo de descripciones:\n",
    "\n",
    "1 - AV SAN MARTIN 1244 - VENTA DE POZO ENTREGA FEB...\n",
    "2 - Crowdfunding - Inverti en Palermo - Desde 4 mts2\n",
    "3 - OPORTUNIDAD DE INVERSION !\n",
    "\n",
    "Los vamos a eliminar porque no son parte de lo que buscamos en este proyecto que es predecir precios de inmuebles. \n"
   ]
  },
  {
   "cell_type": "code",
   "execution_count": 19,
   "metadata": {},
   "outputs": [
    {
     "name": "stdout",
     "output_type": "stream",
     "text": [
      "19\n",
      "0\n"
     ]
    },
    {
     "data": {
      "text/plain": [
       "rooms                 0\n",
       "bedrooms              0\n",
       "bathrooms          1905\n",
       "surface_total         0\n",
       "surface_covered       0\n",
       "price                 0\n",
       "property_type         0\n",
       "lat                   0\n",
       "lon                   0\n",
       "dtype: int64"
      ]
     },
     "execution_count": 19,
     "metadata": {},
     "output_type": "execute_result"
    }
   ],
   "source": [
    "print(df2[df2.price <= 25000].price.count())\n",
    "df2 = df2.drop(df2[df2.price <= 25000].index)\n",
    "print(df2[df2.price <= 25000].price.count())\n",
    "df2.isna().sum()"
   ]
  },
  {
   "cell_type": "markdown",
   "metadata": {},
   "source": [
    "##### __Bathrooms__"
   ]
  },
  {
   "cell_type": "code",
   "execution_count": 20,
   "metadata": {},
   "outputs": [],
   "source": [
    "values_mean_bathrooms = round(df2.groupby('bedrooms')['bathrooms'].mean())\n",
    "df2.bathrooms = df2.bathrooms.fillna(df2.bedrooms.map(values_mean_bathrooms))"
   ]
  },
  {
   "cell_type": "markdown",
   "metadata": {},
   "source": [
    "##### __Dataset Preprocesado__"
   ]
  },
  {
   "cell_type": "markdown",
   "metadata": {},
   "source": [
    "Para el momento vamos a sacar l3 (que sirvió para imputar valores de Lat y Lon) y resetear el index. "
   ]
  },
  {
   "cell_type": "code",
   "execution_count": 21,
   "metadata": {},
   "outputs": [],
   "source": [
    "df2 = df2.reset_index(drop=True)"
   ]
  },
  {
   "cell_type": "markdown",
   "metadata": {},
   "source": [
    "#### __3 -  Encoders__"
   ]
  },
  {
   "cell_type": "markdown",
   "metadata": {},
   "source": [
    "Vamos a crear variables numéricas para __property_type__"
   ]
  },
  {
   "cell_type": "code",
   "execution_count": 22,
   "metadata": {},
   "outputs": [
    {
     "name": "stdout",
     "output_type": "stream",
     "text": [
      "El dataset original tiene 12 columnas y 75164 filas\n"
     ]
    },
    {
     "data": {
      "text/html": [
       "<div>\n",
       "<style scoped>\n",
       "    .dataframe tbody tr th:only-of-type {\n",
       "        vertical-align: middle;\n",
       "    }\n",
       "\n",
       "    .dataframe tbody tr th {\n",
       "        vertical-align: top;\n",
       "    }\n",
       "\n",
       "    .dataframe thead th {\n",
       "        text-align: right;\n",
       "    }\n",
       "</style>\n",
       "<table border=\"1\" class=\"dataframe\">\n",
       "  <thead>\n",
       "    <tr style=\"text-align: right;\">\n",
       "      <th></th>\n",
       "      <th>rooms</th>\n",
       "      <th>bedrooms</th>\n",
       "      <th>bathrooms</th>\n",
       "      <th>surface_total</th>\n",
       "      <th>surface_covered</th>\n",
       "      <th>price</th>\n",
       "      <th>lat</th>\n",
       "      <th>lon</th>\n",
       "      <th>Casa</th>\n",
       "      <th>Departamento</th>\n",
       "      <th>PH</th>\n",
       "    </tr>\n",
       "  </thead>\n",
       "  <tbody>\n",
       "    <tr>\n",
       "      <th>count</th>\n",
       "      <td>75164.000000</td>\n",
       "      <td>75164.000000</td>\n",
       "      <td>75164.000000</td>\n",
       "      <td>75164.000000</td>\n",
       "      <td>75164.000000</td>\n",
       "      <td>75164.000000</td>\n",
       "      <td>75164.000000</td>\n",
       "      <td>75164.000000</td>\n",
       "      <td>75164.000000</td>\n",
       "      <td>75164.000000</td>\n",
       "      <td>75164.000000</td>\n",
       "    </tr>\n",
       "    <tr>\n",
       "      <th>mean</th>\n",
       "      <td>2.580970</td>\n",
       "      <td>1.690330</td>\n",
       "      <td>1.319382</td>\n",
       "      <td>67.116825</td>\n",
       "      <td>60.508368</td>\n",
       "      <td>177867.680805</td>\n",
       "      <td>-34.599158</td>\n",
       "      <td>-58.436871</td>\n",
       "      <td>0.008076</td>\n",
       "      <td>0.902773</td>\n",
       "      <td>0.089152</td>\n",
       "    </tr>\n",
       "    <tr>\n",
       "      <th>std</th>\n",
       "      <td>0.906321</td>\n",
       "      <td>0.742001</td>\n",
       "      <td>0.563054</td>\n",
       "      <td>27.789677</td>\n",
       "      <td>24.204058</td>\n",
       "      <td>87948.950670</td>\n",
       "      <td>0.023394</td>\n",
       "      <td>0.035130</td>\n",
       "      <td>0.089502</td>\n",
       "      <td>0.296269</td>\n",
       "      <td>0.284965</td>\n",
       "    </tr>\n",
       "    <tr>\n",
       "      <th>min</th>\n",
       "      <td>1.000000</td>\n",
       "      <td>1.000000</td>\n",
       "      <td>1.000000</td>\n",
       "      <td>13.000000</td>\n",
       "      <td>13.000000</td>\n",
       "      <td>25500.000000</td>\n",
       "      <td>-34.696419</td>\n",
       "      <td>-58.530467</td>\n",
       "      <td>0.000000</td>\n",
       "      <td>0.000000</td>\n",
       "      <td>0.000000</td>\n",
       "    </tr>\n",
       "    <tr>\n",
       "      <th>25%</th>\n",
       "      <td>2.000000</td>\n",
       "      <td>1.000000</td>\n",
       "      <td>1.000000</td>\n",
       "      <td>46.000000</td>\n",
       "      <td>42.000000</td>\n",
       "      <td>114000.000000</td>\n",
       "      <td>-34.613672</td>\n",
       "      <td>-58.459478</td>\n",
       "      <td>0.000000</td>\n",
       "      <td>1.000000</td>\n",
       "      <td>0.000000</td>\n",
       "    </tr>\n",
       "    <tr>\n",
       "      <th>50%</th>\n",
       "      <td>3.000000</td>\n",
       "      <td>2.000000</td>\n",
       "      <td>1.000000</td>\n",
       "      <td>61.000000</td>\n",
       "      <td>55.000000</td>\n",
       "      <td>155994.000000</td>\n",
       "      <td>-34.599658</td>\n",
       "      <td>-58.434109</td>\n",
       "      <td>0.000000</td>\n",
       "      <td>1.000000</td>\n",
       "      <td>0.000000</td>\n",
       "    </tr>\n",
       "    <tr>\n",
       "      <th>75%</th>\n",
       "      <td>3.000000</td>\n",
       "      <td>2.000000</td>\n",
       "      <td>2.000000</td>\n",
       "      <td>83.000000</td>\n",
       "      <td>74.000000</td>\n",
       "      <td>223000.000000</td>\n",
       "      <td>-34.585766</td>\n",
       "      <td>-58.412600</td>\n",
       "      <td>0.000000</td>\n",
       "      <td>1.000000</td>\n",
       "      <td>0.000000</td>\n",
       "    </tr>\n",
       "    <tr>\n",
       "      <th>max</th>\n",
       "      <td>4.000000</td>\n",
       "      <td>4.000000</td>\n",
       "      <td>4.000000</td>\n",
       "      <td>154.000000</td>\n",
       "      <td>153.000000</td>\n",
       "      <td>517266.000000</td>\n",
       "      <td>-34.535818</td>\n",
       "      <td>-58.353930</td>\n",
       "      <td>1.000000</td>\n",
       "      <td>1.000000</td>\n",
       "      <td>1.000000</td>\n",
       "    </tr>\n",
       "  </tbody>\n",
       "</table>\n",
       "</div>"
      ],
      "text/plain": [
       "              rooms      bedrooms     bathrooms  surface_total  \\\n",
       "count  75164.000000  75164.000000  75164.000000   75164.000000   \n",
       "mean       2.580970      1.690330      1.319382      67.116825   \n",
       "std        0.906321      0.742001      0.563054      27.789677   \n",
       "min        1.000000      1.000000      1.000000      13.000000   \n",
       "25%        2.000000      1.000000      1.000000      46.000000   \n",
       "50%        3.000000      2.000000      1.000000      61.000000   \n",
       "75%        3.000000      2.000000      2.000000      83.000000   \n",
       "max        4.000000      4.000000      4.000000     154.000000   \n",
       "\n",
       "       surface_covered          price           lat           lon  \\\n",
       "count     75164.000000   75164.000000  75164.000000  75164.000000   \n",
       "mean         60.508368  177867.680805    -34.599158    -58.436871   \n",
       "std          24.204058   87948.950670      0.023394      0.035130   \n",
       "min          13.000000   25500.000000    -34.696419    -58.530467   \n",
       "25%          42.000000  114000.000000    -34.613672    -58.459478   \n",
       "50%          55.000000  155994.000000    -34.599658    -58.434109   \n",
       "75%          74.000000  223000.000000    -34.585766    -58.412600   \n",
       "max         153.000000  517266.000000    -34.535818    -58.353930   \n",
       "\n",
       "               Casa  Departamento            PH  \n",
       "count  75164.000000  75164.000000  75164.000000  \n",
       "mean       0.008076      0.902773      0.089152  \n",
       "std        0.089502      0.296269      0.284965  \n",
       "min        0.000000      0.000000      0.000000  \n",
       "25%        0.000000      1.000000      0.000000  \n",
       "50%        0.000000      1.000000      0.000000  \n",
       "75%        0.000000      1.000000      0.000000  \n",
       "max        1.000000      1.000000      1.000000  "
      ]
     },
     "execution_count": 22,
     "metadata": {},
     "output_type": "execute_result"
    }
   ],
   "source": [
    "new_columns = pd.get_dummies(df2.property_type)\n",
    "df2 = pd.concat([df2, new_columns], axis=1)\n",
    "df_final = df2.drop(columns=['property_type'])\n",
    "print('El dataset original tiene', df2.shape[1], 'columnas y', df2.shape[0], 'filas')\n",
    "df_final.describe()"
   ]
  },
  {
   "cell_type": "markdown",
   "metadata": {},
   "source": [
    "#### __4 - Train_Test_Split y Normalización__"
   ]
  },
  {
   "cell_type": "code",
   "execution_count": 34,
   "metadata": {},
   "outputs": [],
   "source": [
    "from sklearn.model_selection import train_test_split\n",
    "\n",
    "columns = ['rooms', 'bedrooms', 'bathrooms', 'surface_total', 'surface_covered', 'lat', 'lon', 'Casa', 'Departamento', 'PH' ]\n",
    "#columns = ['rooms', 'bedrooms', 'bathrooms', 'surface_total', 'surface_covered']\n",
    "\n",
    "X = df_final[columns]\n",
    "y = df_final.price\n",
    "\n",
    "X_train, X_test, y_train, y_test = train_test_split(X, y, test_size=0.30, random_state=42)"
   ]
  },
  {
   "cell_type": "code",
   "execution_count": 35,
   "metadata": {},
   "outputs": [],
   "source": [
    "from sklearn.preprocessing import StandardScaler\n",
    "\n",
    "scaler = StandardScaler()\n",
    "\n",
    "X_train = scaler.fit_transform(X_train)\n",
    "X_test = scaler.transform(X_test)"
   ]
  },
  {
   "cell_type": "markdown",
   "metadata": {},
   "source": [
    "#### __5 - Modelo KNN__"
   ]
  },
  {
   "cell_type": "markdown",
   "metadata": {},
   "source": [
    "##### __Función Eval__"
   ]
  },
  {
   "cell_type": "code",
   "execution_count": 26,
   "metadata": {},
   "outputs": [],
   "source": [
    "def eval_model (X_train, X_test, y_train, y_test, y_train_pred, y_test_pred):\n",
    "    \n",
    "    from sklearn.tree import DecisionTreeRegressor\n",
    "    from sklearn.metrics import mean_squared_error\n",
    "    #from sklearn.metrics import mean_absolute_error#\n",
    "\n",
    "    rmse_train = np.sqrt(mean_squared_error(y_train, y_train_pred))\n",
    "    rmse_test = np.sqrt(mean_squared_error(y_test, y_test_pred))\n",
    "    #mae_train = np.sqrt(mean_absolute_error(y_train, y_train_pred))\n",
    "    #mae_test = np.sqrt(mean_absolute_error(y_test, y_test_pred))\n",
    "    print(f'Raíz del error cuadrático medio en Train: {rmse_train}')\n",
    "    print(f'Raíz del error cuadrático medio en Test: {rmse_test}')\n",
    "    #print(f'Error absoluto medio en train: {mae_train}')\n",
    "    #print(f'Error absoluto medio en test: {mae_test}')\n",
    "    \n",
    "    plt.figure(figsize = (15,7))\n",
    "    \n",
    "    plt.subplot(1,2,1)\n",
    "    sns.distplot(y_train - y_train_pred, bins = 15, label = 'train')\n",
    "    sns.distplot(y_test - y_test_pred, bins = 15, label = 'test')\n",
    "    plt.xlabel('errores')\n",
    "    plt.ticklabel_format(style = 'plain')\n",
    "    plt.legend()\n",
    "    \n",
    "    \n",
    "    ax = plt.subplot(1,2,2)\n",
    "    ax.scatter(y_test,y_test_pred, s =2)\n",
    " \n",
    "    lims = [\n",
    "    np.min([ax.get_xlim(), ax.get_ylim()]),  # min of both axes\n",
    "    np.max([ax.get_xlim(), ax.get_ylim()]),  # max of both axes]\n",
    "    ]\n",
    "    \n",
    "    ax.plot(lims, lims, 'k-', alpha=0.75, zorder=0)\n",
    "    plt.xlabel('y (test)')\n",
    "    plt.ylabel('y_pred (test)')\n",
    "    \n",
    "    #plt.tight_layout()\n",
    "    plt.ticklabel_format(style = 'plain')\n",
    "    plt.show()"
   ]
  },
  {
   "cell_type": "code",
   "execution_count": 36,
   "metadata": {},
   "outputs": [
    {
     "name": "stdout",
     "output_type": "stream",
     "text": [
      "Mejores parametros: {'n_neighbors': 15, 'weights': 'distance'}\n",
      "Mejor Score: 0.8840220734471987\n",
      "\n"
     ]
    }
   ],
   "source": [
    "from sklearn.neighbors import KNeighborsRegressor\n",
    "from sklearn.model_selection import GridSearchCV\n",
    "\n",
    "knn_regressor = KNeighborsRegressor()\n",
    "\n",
    "param_grid = {'n_neighbors': [0,5,10,15],\n",
    "               'weights' : ['uniform', 'distance']}\n",
    "\n",
    "knn_regr_GS = GridSearchCV(knn_regressor, param_grid=param_grid, cv=5)\n",
    "\n",
    "knn_regr_GS.fit(X_train, y_train)\n",
    "print(\"Mejores parametros: \"+str(knn_regr_GS.best_params_))\n",
    "print(\"Mejor Score: \"+str(knn_regr_GS.best_score_)+'\\n')\n",
    "\n",
    "y_test_pred = knn_regr_GS.predict(X_test)\n",
    "y_train_pred = knn_regr_GS.predict(X_train)"
   ]
  },
  {
   "cell_type": "code",
   "execution_count": 37,
   "metadata": {},
   "outputs": [
    {
     "name": "stdout",
     "output_type": "stream",
     "text": [
      "Raíz del error cuadrático medio en Train: 6523.888668285026\n",
      "Raíz del error cuadrático medio en Test: 28629.170441154653\n"
     ]
    },
    {
     "data": {
      "image/png": "[encoded data removed]",
      "text/plain": [
       "<Figure size 1080x504 with 2 Axes>"
      ]
     },
     "metadata": {
      "needs_background": "light"
     },
     "output_type": "display_data"
    }
   ],
   "source": [
    "eval_model (X_train, X_test, y_train, y_test, y_train_pred, y_test_pred)"
   ]
  },
  {
   "cell_type": "markdown",
   "metadata": {
    "heading_collapsed": "true"
   },
   "source": [
    "#### __6 - Puesta en producción__"
   ]
  },
  {
   "cell_type": "code",
   "execution_count": null,
   "metadata": {},
   "outputs": [],
   "source": [
    "scaler_final = StandardScaler()\n",
    "X = scaler_final.fit_transform(X)\n",
    "knn_regressor = KNeighborsRegressor(n_neighbors=15, weights='distance')\n",
    "knn_regressor.fit(X, y)\n",
    "model = {\"modelo\":knn_regressor,\n",
    "         \"scaler\":scaler_final}"
   ]
  },
  {
   "cell_type": "code",
   "execution_count": null,
   "metadata": {},
   "outputs": [],
   "source": [
    "import pickle\n",
    "with open('./tmp/model.pickle','wb') as file:\n",
    "    pickle.dump(model, file)"
   ]
  },
  {
   "cell_type": "code",
   "execution_count": null,
   "metadata": {},
   "outputs": [],
   "source": []
  }
 ],
 "metadata": {
  "colab": {
   "collapsed_sections": [],
   "name": "DS_Proyecto_01.ipynb",
   "provenance": []
  },
  "kernelspec": {
   "display_name": "Python 3",
   "language": "python",
   "name": "python3"
  },
  "language_info": {
   "codemirror_mode": {
    "name": "ipython",
    "version": 3
   },
   "file_extension": ".py",
   "mimetype": "text/x-python",
   "name": "python",
   "nbconvert_exporter": "python",
   "pygments_lexer": "ipython3",
   "version": "3.8.5"
  }
 },
 "nbformat": 4,
 "nbformat_minor": 4
}
