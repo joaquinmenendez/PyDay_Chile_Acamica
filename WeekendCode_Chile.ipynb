{
 "cells": [
  {
   "cell_type": "markdown",
   "source": [
    "# Weekend Code - Chile 2021\n",
    "Para ver mas información del evento consultar en [https://weekendcode.cl/](https://weekendcode.cl/)<br>\n",
    "Puedes ver el video de la presentación haciendo click [aquí](https://youtu.be/kvmqhBya8WI?t=131)"
   ],
   "metadata": {
    "collapsed": false,
    "pycharm": {
     "name": "#%% md\n"
    }
   }
  },
  {
   "cell_type": "code",
   "execution_count": 2,
   "metadata": {
    "id": "fCGVacN5C4OM",
    "jupyter": {
     "source_hidden": true
    },
    "pycharm": {
     "name": "#%%\n"
    }
   },
   "outputs": [],
   "source": [
    "import numpy as np\n",
    "import pandas as pd\n",
    "import matplotlib.pyplot as plt\n",
    "import seaborn as sns\n",
    "import warnings; warnings.simplefilter('ignore')\n",
    "\n",
    "# Recomendación: En Jupyter Lab instalar la extensión @aquirdturtle/collapsible_headings para una mejor visualización y orden"
   ]
  },
  {
   "cell_type": "markdown",
   "metadata": {
    "heading_collapsed": "true"
   },
   "source": [
    "# __EDA__\n",
    "Puedes descargar el dataset utilizado haciendo click [aquí](https://drive.google.com/u/0/uc?export=download&confirm=9sqH&id=1Ugbsw5XbNRbglomSQO1qkAgMFB_3BzmB)"
   ]
  },
  {
   "cell_type": "code",
   "execution_count": 3,
   "metadata": {},
   "outputs": [
    {
     "name": "stdout",
     "output_type": "stream",
     "text": [
      "El dataset original que vamos a usar tiene 19 columnas y 146660 filas\n",
      "<class 'pandas.core.frame.DataFrame'>\n",
      "RangeIndex: 146660 entries, 0 to 146659\n",
      "Data columns (total 19 columns):\n",
      " #   Column           Non-Null Count   Dtype  \n",
      "---  ------           --------------   -----  \n",
      " 0   start_date       146660 non-null  object \n",
      " 1   end_date         146660 non-null  object \n",
      " 2   created_on       146660 non-null  object \n",
      " 3   lat              136735 non-null  float64\n",
      " 4   lon              136701 non-null  float64\n",
      " 5   l1               146660 non-null  object \n",
      " 6   l2               146660 non-null  object \n",
      " 7   l3               146660 non-null  object \n",
      " 8   rooms            146660 non-null  float64\n",
      " 9   bedrooms         146660 non-null  float64\n",
      " 10  bathrooms        140703 non-null  float64\n",
      " 11  surface_total    126133 non-null  float64\n",
      " 12  surface_covered  125046 non-null  float64\n",
      " 13  price            146660 non-null  float64\n",
      " 14  currency         146660 non-null  object \n",
      " 15  title            146660 non-null  object \n",
      " 16  description      146660 non-null  object \n",
      " 17  property_type    146660 non-null  object \n",
      " 18  operation_type   146660 non-null  object \n",
      "dtypes: float64(8), object(11)\n",
      "memory usage: 21.3+ MB\n"
     ]
    }
   ],
   "source": [
    "df = pd.read_csv('/Users/juanchi/Documents/Data Science/Curso/Proyecto 1/DS_Proyecto_01_Datos_Properati.csv')\n",
    "print('El dataset original que vamos a usar tiene', df.shape[1], 'columnas y', df.shape[0], 'filas')\n",
    "df.info()"
   ]
  },
  {
   "cell_type": "code",
   "execution_count": 29,
   "metadata": {},
   "outputs": [
    {
     "data": {
      "text/html": [
       "<div>\n",
       "<style scoped>\n",
       "    .dataframe tbody tr th:only-of-type {\n",
       "        vertical-align: middle;\n",
       "    }\n",
       "\n",
       "    .dataframe tbody tr th {\n",
       "        vertical-align: top;\n",
       "    }\n",
       "\n",
       "    .dataframe thead th {\n",
       "        text-align: right;\n",
       "    }\n",
       "</style>\n",
       "<table border=\"1\" class=\"dataframe\">\n",
       "  <thead>\n",
       "    <tr style=\"text-align: right;\">\n",
       "      <th></th>\n",
       "      <th>start_date</th>\n",
       "      <th>end_date</th>\n",
       "      <th>created_on</th>\n",
       "      <th>lat</th>\n",
       "      <th>lon</th>\n",
       "      <th>l1</th>\n",
       "      <th>l2</th>\n",
       "      <th>l3</th>\n",
       "      <th>rooms</th>\n",
       "      <th>bedrooms</th>\n",
       "      <th>bathrooms</th>\n",
       "      <th>surface_total</th>\n",
       "      <th>surface_covered</th>\n",
       "      <th>price</th>\n",
       "      <th>currency</th>\n",
       "      <th>title</th>\n",
       "      <th>description</th>\n",
       "      <th>property_type</th>\n",
       "      <th>operation_type</th>\n",
       "    </tr>\n",
       "  </thead>\n",
       "  <tbody>\n",
       "    <tr>\n",
       "      <th>0</th>\n",
       "      <td>2019-10-17</td>\n",
       "      <td>2019-12-23</td>\n",
       "      <td>2019-10-17</td>\n",
       "      <td>-34.605880</td>\n",
       "      <td>-58.384949</td>\n",
       "      <td>Argentina</td>\n",
       "      <td>Capital Federal</td>\n",
       "      <td>San Cristobal</td>\n",
       "      <td>7.0</td>\n",
       "      <td>7.0</td>\n",
       "      <td>2.0</td>\n",
       "      <td>140.0</td>\n",
       "      <td>140.0</td>\n",
       "      <td>153000.0</td>\n",
       "      <td>USD</td>\n",
       "      <td>***Venta semipiso centro, ideal hostel*****</td>\n",
       "      <td>DESCRIPCION DE LA PROPIEDAD: Departamento de 1...</td>\n",
       "      <td>Departamento</td>\n",
       "      <td>Venta</td>\n",
       "    </tr>\n",
       "    <tr>\n",
       "      <th>1</th>\n",
       "      <td>2019-10-17</td>\n",
       "      <td>2019-11-21</td>\n",
       "      <td>2019-10-17</td>\n",
       "      <td>-34.624056</td>\n",
       "      <td>-58.412110</td>\n",
       "      <td>Argentina</td>\n",
       "      <td>Capital Federal</td>\n",
       "      <td>Boedo</td>\n",
       "      <td>2.0</td>\n",
       "      <td>1.0</td>\n",
       "      <td>2.0</td>\n",
       "      <td>70.0</td>\n",
       "      <td>58.0</td>\n",
       "      <td>159000.0</td>\n",
       "      <td>USD</td>\n",
       "      <td>Espectacular PH reciclado en Boedo sin expensas.</td>\n",
       "      <td>PH reciclado en Boedo a una cuadra de la plaz...</td>\n",
       "      <td>PH</td>\n",
       "      <td>Venta</td>\n",
       "    </tr>\n",
       "    <tr>\n",
       "      <th>2</th>\n",
       "      <td>2019-10-17</td>\n",
       "      <td>2019-11-01</td>\n",
       "      <td>2019-10-17</td>\n",
       "      <td>-34.593569</td>\n",
       "      <td>-58.427474</td>\n",
       "      <td>Argentina</td>\n",
       "      <td>Capital Federal</td>\n",
       "      <td>Palermo</td>\n",
       "      <td>2.0</td>\n",
       "      <td>1.0</td>\n",
       "      <td>1.0</td>\n",
       "      <td>45.0</td>\n",
       "      <td>45.0</td>\n",
       "      <td>125000.0</td>\n",
       "      <td>USD</td>\n",
       "      <td>Depto.tipo casa de 2 ambientes en Venta en Pal...</td>\n",
       "      <td>2 ambienets amplio , excelente estado , patio ...</td>\n",
       "      <td>PH</td>\n",
       "      <td>Venta</td>\n",
       "    </tr>\n",
       "    <tr>\n",
       "      <th>3</th>\n",
       "      <td>2019-10-17</td>\n",
       "      <td>2019-12-23</td>\n",
       "      <td>2019-10-17</td>\n",
       "      <td>-34.581294</td>\n",
       "      <td>-58.436754</td>\n",
       "      <td>Argentina</td>\n",
       "      <td>Capital Federal</td>\n",
       "      <td>Palermo</td>\n",
       "      <td>2.0</td>\n",
       "      <td>1.0</td>\n",
       "      <td>1.0</td>\n",
       "      <td>85.0</td>\n",
       "      <td>50.0</td>\n",
       "      <td>295000.0</td>\n",
       "      <td>USD</td>\n",
       "      <td>COSTA RICA 5800 / PALERMO HOLLYWOOD / VENTA PH...</td>\n",
       "      <td>HERMOSO PH EN PALERMO!!!2 AMBIENTES TOTALMENTE...</td>\n",
       "      <td>PH</td>\n",
       "      <td>Venta</td>\n",
       "    </tr>\n",
       "    <tr>\n",
       "      <th>4</th>\n",
       "      <td>2019-10-17</td>\n",
       "      <td>2020-03-11</td>\n",
       "      <td>2019-10-17</td>\n",
       "      <td>-34.914194</td>\n",
       "      <td>-57.938219</td>\n",
       "      <td>Argentina</td>\n",
       "      <td>Bs.As. G.B.A. Zona Sur</td>\n",
       "      <td>La Plata</td>\n",
       "      <td>2.0</td>\n",
       "      <td>1.0</td>\n",
       "      <td>1.0</td>\n",
       "      <td>50.0</td>\n",
       "      <td>35.0</td>\n",
       "      <td>40000.0</td>\n",
       "      <td>USD</td>\n",
       "      <td>58 entre 1 y 2  Venta de departamento en ph.1 ...</td>\n",
       "      <td>58 entre 1 y 2  Venta de departamento en PH. P...</td>\n",
       "      <td>PH</td>\n",
       "      <td>Venta</td>\n",
       "    </tr>\n",
       "    <tr>\n",
       "      <th>...</th>\n",
       "      <td>...</td>\n",
       "      <td>...</td>\n",
       "      <td>...</td>\n",
       "      <td>...</td>\n",
       "      <td>...</td>\n",
       "      <td>...</td>\n",
       "      <td>...</td>\n",
       "      <td>...</td>\n",
       "      <td>...</td>\n",
       "      <td>...</td>\n",
       "      <td>...</td>\n",
       "      <td>...</td>\n",
       "      <td>...</td>\n",
       "      <td>...</td>\n",
       "      <td>...</td>\n",
       "      <td>...</td>\n",
       "      <td>...</td>\n",
       "      <td>...</td>\n",
       "      <td>...</td>\n",
       "    </tr>\n",
       "    <tr>\n",
       "      <th>146655</th>\n",
       "      <td>2019-07-31</td>\n",
       "      <td>2019-08-13</td>\n",
       "      <td>2019-07-31</td>\n",
       "      <td>-34.816348</td>\n",
       "      <td>-58.181963</td>\n",
       "      <td>Argentina</td>\n",
       "      <td>Bs.As. G.B.A. Zona Sur</td>\n",
       "      <td>Berazategui</td>\n",
       "      <td>2.0</td>\n",
       "      <td>1.0</td>\n",
       "      <td>1.0</td>\n",
       "      <td>54.0</td>\n",
       "      <td>48.0</td>\n",
       "      <td>165000.0</td>\n",
       "      <td>USD</td>\n",
       "      <td>Departamento en Venta en Barrio Privado Barran...</td>\n",
       "      <td>Departamento de 2 ambientesCocina con alacena ...</td>\n",
       "      <td>Departamento</td>\n",
       "      <td>Venta</td>\n",
       "    </tr>\n",
       "    <tr>\n",
       "      <th>146656</th>\n",
       "      <td>2019-07-31</td>\n",
       "      <td>2019-08-14</td>\n",
       "      <td>2019-07-31</td>\n",
       "      <td>-34.446459</td>\n",
       "      <td>-58.937810</td>\n",
       "      <td>Argentina</td>\n",
       "      <td>Bs.As. G.B.A. Zona Norte</td>\n",
       "      <td>Pilar</td>\n",
       "      <td>4.0</td>\n",
       "      <td>3.0</td>\n",
       "      <td>2.0</td>\n",
       "      <td>164.0</td>\n",
       "      <td>90.0</td>\n",
       "      <td>130000.0</td>\n",
       "      <td>USD</td>\n",
       "      <td>Venta departamentos tres dormitorios jardín co...</td>\n",
       "      <td>Muy buen duplex a estrenar en dos plantas más ...</td>\n",
       "      <td>Departamento</td>\n",
       "      <td>Venta</td>\n",
       "    </tr>\n",
       "    <tr>\n",
       "      <th>146657</th>\n",
       "      <td>2019-07-31</td>\n",
       "      <td>2019-08-14</td>\n",
       "      <td>2019-07-31</td>\n",
       "      <td>-34.444633</td>\n",
       "      <td>-58.981606</td>\n",
       "      <td>Argentina</td>\n",
       "      <td>Bs.As. G.B.A. Zona Norte</td>\n",
       "      <td>Pilar</td>\n",
       "      <td>1.0</td>\n",
       "      <td>1.0</td>\n",
       "      <td>1.0</td>\n",
       "      <td>50.0</td>\n",
       "      <td>35.0</td>\n",
       "      <td>73000.0</td>\n",
       "      <td>USD</td>\n",
       "      <td>Venta departamento de un ambiente Manzanares C...</td>\n",
       "      <td>En los Condominios de Campo Manzanares Chico, ...</td>\n",
       "      <td>Departamento</td>\n",
       "      <td>Venta</td>\n",
       "    </tr>\n",
       "    <tr>\n",
       "      <th>146658</th>\n",
       "      <td>2019-07-31</td>\n",
       "      <td>2019-08-14</td>\n",
       "      <td>2019-07-31</td>\n",
       "      <td>-34.444830</td>\n",
       "      <td>-58.981796</td>\n",
       "      <td>Argentina</td>\n",
       "      <td>Bs.As. G.B.A. Zona Norte</td>\n",
       "      <td>Pilar</td>\n",
       "      <td>2.0</td>\n",
       "      <td>1.0</td>\n",
       "      <td>1.0</td>\n",
       "      <td>38.0</td>\n",
       "      <td>38.0</td>\n",
       "      <td>68000.0</td>\n",
       "      <td>USD</td>\n",
       "      <td>Departamento en Venta. Manzanares chico.</td>\n",
       "      <td>Broker: Maria 11Departamento de dos ambientes ...</td>\n",
       "      <td>Departamento</td>\n",
       "      <td>Venta</td>\n",
       "    </tr>\n",
       "    <tr>\n",
       "      <th>146659</th>\n",
       "      <td>2019-07-31</td>\n",
       "      <td>2019-10-12</td>\n",
       "      <td>2019-07-31</td>\n",
       "      <td>-34.444760</td>\n",
       "      <td>-58.981885</td>\n",
       "      <td>Argentina</td>\n",
       "      <td>Bs.As. G.B.A. Zona Norte</td>\n",
       "      <td>Pilar</td>\n",
       "      <td>3.0</td>\n",
       "      <td>2.0</td>\n",
       "      <td>1.0</td>\n",
       "      <td>75.0</td>\n",
       "      <td>75.0</td>\n",
       "      <td>98000.0</td>\n",
       "      <td>USD</td>\n",
       "      <td>Departamento en venta en Manzanares Chico</td>\n",
       "      <td>Departamento en el Barrio Manzanares Chico , e...</td>\n",
       "      <td>Departamento</td>\n",
       "      <td>Venta</td>\n",
       "    </tr>\n",
       "  </tbody>\n",
       "</table>\n",
       "<p>146660 rows × 19 columns</p>\n",
       "</div>"
      ],
      "text/plain": [
       "        start_date    end_date  created_on        lat        lon         l1  \\\n",
       "0       2019-10-17  2019-12-23  2019-10-17 -34.605880 -58.384949  Argentina   \n",
       "1       2019-10-17  2019-11-21  2019-10-17 -34.624056 -58.412110  Argentina   \n",
       "2       2019-10-17  2019-11-01  2019-10-17 -34.593569 -58.427474  Argentina   \n",
       "3       2019-10-17  2019-12-23  2019-10-17 -34.581294 -58.436754  Argentina   \n",
       "4       2019-10-17  2020-03-11  2019-10-17 -34.914194 -57.938219  Argentina   \n",
       "...            ...         ...         ...        ...        ...        ...   \n",
       "146655  2019-07-31  2019-08-13  2019-07-31 -34.816348 -58.181963  Argentina   \n",
       "146656  2019-07-31  2019-08-14  2019-07-31 -34.446459 -58.937810  Argentina   \n",
       "146657  2019-07-31  2019-08-14  2019-07-31 -34.444633 -58.981606  Argentina   \n",
       "146658  2019-07-31  2019-08-14  2019-07-31 -34.444830 -58.981796  Argentina   \n",
       "146659  2019-07-31  2019-10-12  2019-07-31 -34.444760 -58.981885  Argentina   \n",
       "\n",
       "                              l2             l3  rooms  bedrooms  bathrooms  \\\n",
       "0                Capital Federal  San Cristobal    7.0       7.0        2.0   \n",
       "1                Capital Federal          Boedo    2.0       1.0        2.0   \n",
       "2                Capital Federal        Palermo    2.0       1.0        1.0   \n",
       "3                Capital Federal        Palermo    2.0       1.0        1.0   \n",
       "4         Bs.As. G.B.A. Zona Sur       La Plata    2.0       1.0        1.0   \n",
       "...                          ...            ...    ...       ...        ...   \n",
       "146655    Bs.As. G.B.A. Zona Sur    Berazategui    2.0       1.0        1.0   \n",
       "146656  Bs.As. G.B.A. Zona Norte          Pilar    4.0       3.0        2.0   \n",
       "146657  Bs.As. G.B.A. Zona Norte          Pilar    1.0       1.0        1.0   \n",
       "146658  Bs.As. G.B.A. Zona Norte          Pilar    2.0       1.0        1.0   \n",
       "146659  Bs.As. G.B.A. Zona Norte          Pilar    3.0       2.0        1.0   \n",
       "\n",
       "        surface_total  surface_covered     price currency  \\\n",
       "0               140.0            140.0  153000.0      USD   \n",
       "1                70.0             58.0  159000.0      USD   \n",
       "2                45.0             45.0  125000.0      USD   \n",
       "3                85.0             50.0  295000.0      USD   \n",
       "4                50.0             35.0   40000.0      USD   \n",
       "...               ...              ...       ...      ...   \n",
       "146655           54.0             48.0  165000.0      USD   \n",
       "146656          164.0             90.0  130000.0      USD   \n",
       "146657           50.0             35.0   73000.0      USD   \n",
       "146658           38.0             38.0   68000.0      USD   \n",
       "146659           75.0             75.0   98000.0      USD   \n",
       "\n",
       "                                                    title  \\\n",
       "0             ***Venta semipiso centro, ideal hostel*****   \n",
       "1        Espectacular PH reciclado en Boedo sin expensas.   \n",
       "2       Depto.tipo casa de 2 ambientes en Venta en Pal...   \n",
       "3       COSTA RICA 5800 / PALERMO HOLLYWOOD / VENTA PH...   \n",
       "4       58 entre 1 y 2  Venta de departamento en ph.1 ...   \n",
       "...                                                   ...   \n",
       "146655  Departamento en Venta en Barrio Privado Barran...   \n",
       "146656  Venta departamentos tres dormitorios jardín co...   \n",
       "146657  Venta departamento de un ambiente Manzanares C...   \n",
       "146658           Departamento en Venta. Manzanares chico.   \n",
       "146659          Departamento en venta en Manzanares Chico   \n",
       "\n",
       "                                              description property_type  \\\n",
       "0       DESCRIPCION DE LA PROPIEDAD: Departamento de 1...  Departamento   \n",
       "1        PH reciclado en Boedo a una cuadra de la plaz...            PH   \n",
       "2       2 ambienets amplio , excelente estado , patio ...            PH   \n",
       "3       HERMOSO PH EN PALERMO!!!2 AMBIENTES TOTALMENTE...            PH   \n",
       "4       58 entre 1 y 2  Venta de departamento en PH. P...            PH   \n",
       "...                                                   ...           ...   \n",
       "146655  Departamento de 2 ambientesCocina con alacena ...  Departamento   \n",
       "146656  Muy buen duplex a estrenar en dos plantas más ...  Departamento   \n",
       "146657  En los Condominios de Campo Manzanares Chico, ...  Departamento   \n",
       "146658  Broker: Maria 11Departamento de dos ambientes ...  Departamento   \n",
       "146659  Departamento en el Barrio Manzanares Chico , e...  Departamento   \n",
       "\n",
       "       operation_type  \n",
       "0               Venta  \n",
       "1               Venta  \n",
       "2               Venta  \n",
       "3               Venta  \n",
       "4               Venta  \n",
       "...               ...  \n",
       "146655          Venta  \n",
       "146656          Venta  \n",
       "146657          Venta  \n",
       "146658          Venta  \n",
       "146659          Venta  \n",
       "\n",
       "[146660 rows x 19 columns]"
      ]
     },
     "execution_count": 29,
     "metadata": {},
     "output_type": "execute_result"
    }
   ],
   "source": [
    "df"
   ]
  },
  {
   "cell_type": "code",
   "execution_count": 4,
   "metadata": {
    "pycharm": {
     "name": "#%%\n"
    }
   },
   "outputs": [
    {
     "data": {
      "text/html": [
       "<div>\n",
       "<style scoped>\n",
       "    .dataframe tbody tr th:only-of-type {\n",
       "        vertical-align: middle;\n",
       "    }\n",
       "\n",
       "    .dataframe tbody tr th {\n",
       "        vertical-align: top;\n",
       "    }\n",
       "\n",
       "    .dataframe thead th {\n",
       "        text-align: right;\n",
       "    }\n",
       "</style>\n",
       "<table border=\"1\" class=\"dataframe\">\n",
       "  <thead>\n",
       "    <tr style=\"text-align: right;\">\n",
       "      <th></th>\n",
       "      <th>lat</th>\n",
       "      <th>lon</th>\n",
       "      <th>rooms</th>\n",
       "      <th>bedrooms</th>\n",
       "      <th>bathrooms</th>\n",
       "      <th>surface_total</th>\n",
       "      <th>surface_covered</th>\n",
       "      <th>price</th>\n",
       "    </tr>\n",
       "  </thead>\n",
       "  <tbody>\n",
       "    <tr>\n",
       "      <th>count</th>\n",
       "      <td>136735.00</td>\n",
       "      <td>136701.00</td>\n",
       "      <td>146660.00</td>\n",
       "      <td>146660.00</td>\n",
       "      <td>140703.00</td>\n",
       "      <td>126133.00</td>\n",
       "      <td>125046.00</td>\n",
       "      <td>146660.00</td>\n",
       "    </tr>\n",
       "    <tr>\n",
       "      <th>mean</th>\n",
       "      <td>-34.60</td>\n",
       "      <td>-58.47</td>\n",
       "      <td>3.08</td>\n",
       "      <td>1.98</td>\n",
       "      <td>1.60</td>\n",
       "      <td>216.87</td>\n",
       "      <td>112.82</td>\n",
       "      <td>241221.08</td>\n",
       "    </tr>\n",
       "    <tr>\n",
       "      <th>std</th>\n",
       "      <td>0.47</td>\n",
       "      <td>0.49</td>\n",
       "      <td>1.42</td>\n",
       "      <td>1.15</td>\n",
       "      <td>0.89</td>\n",
       "      <td>2037.61</td>\n",
       "      <td>916.86</td>\n",
       "      <td>318519.46</td>\n",
       "    </tr>\n",
       "    <tr>\n",
       "      <th>min</th>\n",
       "      <td>-35.32</td>\n",
       "      <td>-180.00</td>\n",
       "      <td>1.00</td>\n",
       "      <td>0.00</td>\n",
       "      <td>1.00</td>\n",
       "      <td>10.00</td>\n",
       "      <td>1.00</td>\n",
       "      <td>5500.00</td>\n",
       "    </tr>\n",
       "    <tr>\n",
       "      <th>25%</th>\n",
       "      <td>-34.63</td>\n",
       "      <td>-58.50</td>\n",
       "      <td>2.00</td>\n",
       "      <td>1.00</td>\n",
       "      <td>1.00</td>\n",
       "      <td>52.00</td>\n",
       "      <td>47.00</td>\n",
       "      <td>111000.00</td>\n",
       "    </tr>\n",
       "    <tr>\n",
       "      <th>50%</th>\n",
       "      <td>-34.60</td>\n",
       "      <td>-58.44</td>\n",
       "      <td>3.00</td>\n",
       "      <td>2.00</td>\n",
       "      <td>1.00</td>\n",
       "      <td>78.00</td>\n",
       "      <td>68.00</td>\n",
       "      <td>166000.00</td>\n",
       "    </tr>\n",
       "    <tr>\n",
       "      <th>75%</th>\n",
       "      <td>-34.57</td>\n",
       "      <td>-58.41</td>\n",
       "      <td>4.00</td>\n",
       "      <td>3.00</td>\n",
       "      <td>2.00</td>\n",
       "      <td>140.00</td>\n",
       "      <td>108.00</td>\n",
       "      <td>265000.00</td>\n",
       "    </tr>\n",
       "    <tr>\n",
       "      <th>max</th>\n",
       "      <td>85.05</td>\n",
       "      <td>-57.81</td>\n",
       "      <td>35.00</td>\n",
       "      <td>15.00</td>\n",
       "      <td>14.00</td>\n",
       "      <td>193549.00</td>\n",
       "      <td>126062.00</td>\n",
       "      <td>32434232.00</td>\n",
       "    </tr>\n",
       "  </tbody>\n",
       "</table>\n",
       "</div>"
      ],
      "text/plain": [
       "             lat        lon      rooms   bedrooms  bathrooms  surface_total  \\\n",
       "count  136735.00  136701.00  146660.00  146660.00  140703.00      126133.00   \n",
       "mean      -34.60     -58.47       3.08       1.98       1.60         216.87   \n",
       "std         0.47       0.49       1.42       1.15       0.89        2037.61   \n",
       "min       -35.32    -180.00       1.00       0.00       1.00          10.00   \n",
       "25%       -34.63     -58.50       2.00       1.00       1.00          52.00   \n",
       "50%       -34.60     -58.44       3.00       2.00       1.00          78.00   \n",
       "75%       -34.57     -58.41       4.00       3.00       2.00         140.00   \n",
       "max        85.05     -57.81      35.00      15.00      14.00      193549.00   \n",
       "\n",
       "       surface_covered        price  \n",
       "count        125046.00    146660.00  \n",
       "mean            112.82    241221.08  \n",
       "std             916.86    318519.46  \n",
       "min               1.00      5500.00  \n",
       "25%              47.00    111000.00  \n",
       "50%              68.00    166000.00  \n",
       "75%             108.00    265000.00  \n",
       "max          126062.00  32434232.00  "
      ]
     },
     "execution_count": 4,
     "metadata": {},
     "output_type": "execute_result"
    }
   ],
   "source": [
    "# Estadistica descriptiva de variables cuantitativas\n",
    "df.describe().round(2)"
   ]
  },
  {
   "cell_type": "code",
   "execution_count": 5,
   "metadata": {},
   "outputs": [
    {
     "data": {
      "image/png": "[encoded data removed]",
      "text/plain": [
       "<Figure size 1008x432 with 1 Axes>"
      ]
     },
     "metadata": {
      "needs_background": "light"
     },
     "output_type": "display_data"
    }
   ],
   "source": [
    "plt.figure(figsize = (14,6))\n",
    "chart = sns.countplot(data = df,\n",
    "                      y = \"property_type\",\n",
    "                      order= df.property_type.value_counts().index)\n",
    "chart.set(xlabel = None, ylabel = 'Cantidad')\n",
    "plt.title('Cantidad de propiedades por tipo')\n",
    "plt.show()"
   ]
  },
  {
   "cell_type": "code",
   "execution_count": 6,
   "metadata": {},
   "outputs": [
    {
     "data": {
      "image/png": "[encoded data removed]",
      "text/plain": [
       "<Figure size 864x504 with 1 Axes>"
      ]
     },
     "metadata": {
      "needs_background": "light"
     },
     "output_type": "display_data"
    }
   ],
   "source": [
    "# Publicaciones por zona\n",
    "plt.figure(figsize = (12,7))\n",
    "l2 = sns.countplot(data=df,\n",
    "                   x=\"l2\",\n",
    "                   order=df.l2.value_counts().index)\n",
    "l2.set(xlabel = None, ylabel = 'Cantidad')\n",
    "plt.title('Cantidad de inmuebles por zona')\n",
    "plt.show()"
   ]
  },
  {
   "cell_type": "code",
   "execution_count": 7,
   "metadata": {},
   "outputs": [
    {
     "data": {
      "image/png": "[encoded data removed]",
      "text/plain": [
       "<Figure size 864x576 with 2 Axes>"
      ]
     },
     "metadata": {
      "needs_background": "light"
     },
     "output_type": "display_data"
    }
   ],
   "source": [
    "corr = df.corr()\n",
    "plt.figure(figsize=(12,8))\n",
    "sns.heatmap(corr, cbar = True,  square = True, annot=True, fmt= '.2f',annot_kws={'size': 11}, cmap= 'Blues')\n",
    "plt.title('Matrix de correlación')\n",
    "plt.show()"
   ]
  },
  {
   "cell_type": "markdown",
   "metadata": {
    "pycharm": {
     "name": "#%% md\n"
    }
   },
   "source": [
    "# __Tasador con Machine Learning__"
   ]
  },
  {
   "cell_type": "markdown",
   "metadata": {
    "heading_collapsed": "true",
    "pycharm": {
     "name": "#%% md\n"
    }
   },
   "source": [
    "#### __0 - Dataset filtrado__"
   ]
  },
  {
   "cell_type": "markdown",
   "metadata": {
    "pycharm": {
     "name": "#%% md\n"
    }
   },
   "source": [
    "Vamos a filtrar por propiedades en __Ciudad de Buenos Aires__ que sean __PHs__, __Casas__ y __Departamentos__ e incluir los atributos `rooms`, `bedrooms`, `bathrooms`, `surface_covered`, `surface_total`, `price`. `property_type`, `lat`, `lon`, `l3`. "
   ]
  },
  {
   "cell_type": "code",
   "execution_count": 8,
   "metadata": {
    "pycharm": {
     "name": "#%%\n"
    }
   },
   "outputs": [
    {
     "name": "stdout",
     "output_type": "stream",
     "text": [
      "El dataset filtrado df2 (Deptos, PH, CASA en CABA) tiene 10 columnas y 91485 filas\n"
     ]
    },
    {
     "data": {
      "text/plain": [
       "rooms                 0\n",
       "bedrooms              0\n",
       "bathrooms          2171\n",
       "surface_total      8917\n",
       "surface_covered    9235\n",
       "price                 0\n",
       "property_type         0\n",
       "lat                4534\n",
       "lon                4548\n",
       "l3                    0\n",
       "dtype: int64"
      ]
     },
     "execution_count": 8,
     "metadata": {},
     "output_type": "execute_result"
    }
   ],
   "source": [
    "# Filtro tipo de propiedad en Capital Federal\n",
    "\n",
    "property_filter = ['Departamento', 'PH', 'Casa']\n",
    "df2 = df[(df.property_type.isin(property_filter)) & (df.l2 == \"Capital Federal\")]\n",
    "\n",
    "# Columnas elegidas (sumamos Lat, lon y property_type por lo visto en el P1)\n",
    "columns = ['rooms', 'bedrooms', 'bathrooms', 'surface_total', 'surface_covered', \n",
    "           'price', 'property_type', 'lat', 'lon', 'l3' ] \n",
    "\n",
    "#Filtro final\n",
    "df2 = df2[columns]\n",
    "\n",
    "print('El dataset filtrado df2 (Deptos, PH, CASA en CABA) tiene', \n",
    "      df2.shape[1], 'columnas y', df2.shape[0], 'filas')\n",
    "\n",
    "df2.isna().sum()"
   ]
  },
  {
   "cell_type": "markdown",
   "metadata": {
    "pycharm": {
     "name": "#%% md\n"
    }
   },
   "source": [
    "#### __1 - Detección y eliminación de Outliers__"
   ]
  },
  {
   "cell_type": "markdown",
   "metadata": {
    "heading_collapsed": "true",
    "pycharm": {
     "name": "#%% md\n"
    }
   },
   "source": [
    "##### __EDA Express__"
   ]
  },
  {
   "cell_type": "markdown",
   "metadata": {
    "pycharm": {
     "name": "#%% md\n"
    }
   },
   "source": [
    "El primer paso antes de pasar a la parte de los modelos es eliminar posibles outliers a modo de luego poder hacer otro tipo de procesamientos de los datos."
   ]
  },
  {
   "cell_type": "code",
   "execution_count": 9,
   "metadata": {
    "pycharm": {
     "name": "#%%\n"
    }
   },
   "outputs": [
    {
     "data": {
      "text/html": [
       "<div>\n",
       "<style scoped>\n",
       "    .dataframe tbody tr th:only-of-type {\n",
       "        vertical-align: middle;\n",
       "    }\n",
       "\n",
       "    .dataframe tbody tr th {\n",
       "        vertical-align: top;\n",
       "    }\n",
       "\n",
       "    .dataframe thead th {\n",
       "        text-align: right;\n",
       "    }\n",
       "</style>\n",
       "<table border=\"1\" class=\"dataframe\">\n",
       "  <thead>\n",
       "    <tr style=\"text-align: right;\">\n",
       "      <th></th>\n",
       "      <th>rooms</th>\n",
       "      <th>bedrooms</th>\n",
       "      <th>bathrooms</th>\n",
       "      <th>surface_total</th>\n",
       "      <th>surface_covered</th>\n",
       "      <th>price</th>\n",
       "      <th>lat</th>\n",
       "      <th>lon</th>\n",
       "    </tr>\n",
       "  </thead>\n",
       "  <tbody>\n",
       "    <tr>\n",
       "      <th>count</th>\n",
       "      <td>91485.0</td>\n",
       "      <td>91485.0</td>\n",
       "      <td>89314.0</td>\n",
       "      <td>82568.0</td>\n",
       "      <td>82250.0</td>\n",
       "      <td>91485.0</td>\n",
       "      <td>86951.0</td>\n",
       "      <td>86937.0</td>\n",
       "    </tr>\n",
       "    <tr>\n",
       "      <th>mean</th>\n",
       "      <td>3.0</td>\n",
       "      <td>2.0</td>\n",
       "      <td>1.6</td>\n",
       "      <td>112.6</td>\n",
       "      <td>95.0</td>\n",
       "      <td>259500.3</td>\n",
       "      <td>-34.6</td>\n",
       "      <td>-58.4</td>\n",
       "    </tr>\n",
       "    <tr>\n",
       "      <th>std</th>\n",
       "      <td>1.3</td>\n",
       "      <td>1.1</td>\n",
       "      <td>0.9</td>\n",
       "      <td>980.7</td>\n",
       "      <td>778.5</td>\n",
       "      <td>322265.4</td>\n",
       "      <td>0.0</td>\n",
       "      <td>0.0</td>\n",
       "    </tr>\n",
       "    <tr>\n",
       "      <th>min</th>\n",
       "      <td>1.0</td>\n",
       "      <td>0.0</td>\n",
       "      <td>1.0</td>\n",
       "      <td>10.0</td>\n",
       "      <td>1.0</td>\n",
       "      <td>6000.0</td>\n",
       "      <td>-34.7</td>\n",
       "      <td>-58.5</td>\n",
       "    </tr>\n",
       "    <tr>\n",
       "      <th>25%</th>\n",
       "      <td>2.0</td>\n",
       "      <td>1.0</td>\n",
       "      <td>1.0</td>\n",
       "      <td>49.0</td>\n",
       "      <td>44.0</td>\n",
       "      <td>120000.0</td>\n",
       "      <td>-34.6</td>\n",
       "      <td>-58.5</td>\n",
       "    </tr>\n",
       "    <tr>\n",
       "      <th>50%</th>\n",
       "      <td>3.0</td>\n",
       "      <td>2.0</td>\n",
       "      <td>1.0</td>\n",
       "      <td>71.0</td>\n",
       "      <td>63.0</td>\n",
       "      <td>175000.0</td>\n",
       "      <td>-34.6</td>\n",
       "      <td>-58.4</td>\n",
       "    </tr>\n",
       "    <tr>\n",
       "      <th>75%</th>\n",
       "      <td>4.0</td>\n",
       "      <td>3.0</td>\n",
       "      <td>2.0</td>\n",
       "      <td>111.0</td>\n",
       "      <td>96.0</td>\n",
       "      <td>279000.0</td>\n",
       "      <td>-34.6</td>\n",
       "      <td>-58.4</td>\n",
       "    </tr>\n",
       "    <tr>\n",
       "      <th>max</th>\n",
       "      <td>26.0</td>\n",
       "      <td>15.0</td>\n",
       "      <td>14.0</td>\n",
       "      <td>126062.0</td>\n",
       "      <td>126062.0</td>\n",
       "      <td>32434232.0</td>\n",
       "      <td>-34.5</td>\n",
       "      <td>-58.4</td>\n",
       "    </tr>\n",
       "  </tbody>\n",
       "</table>\n",
       "</div>"
      ],
      "text/plain": [
       "         rooms bedrooms bathrooms surface_total surface_covered       price  \\\n",
       "count  91485.0  91485.0   89314.0       82568.0         82250.0     91485.0   \n",
       "mean       3.0      2.0       1.6         112.6            95.0    259500.3   \n",
       "std        1.3      1.1       0.9         980.7           778.5    322265.4   \n",
       "min        1.0      0.0       1.0          10.0             1.0      6000.0   \n",
       "25%        2.0      1.0       1.0          49.0            44.0    120000.0   \n",
       "50%        3.0      2.0       1.0          71.0            63.0    175000.0   \n",
       "75%        4.0      3.0       2.0         111.0            96.0    279000.0   \n",
       "max       26.0     15.0      14.0      126062.0        126062.0  32434232.0   \n",
       "\n",
       "           lat      lon  \n",
       "count  86951.0  86937.0  \n",
       "mean     -34.6    -58.4  \n",
       "std        0.0      0.0  \n",
       "min      -34.7    -58.5  \n",
       "25%      -34.6    -58.5  \n",
       "50%      -34.6    -58.4  \n",
       "75%      -34.6    -58.4  \n",
       "max      -34.5    -58.4  "
      ]
     },
     "execution_count": 9,
     "metadata": {},
     "output_type": "execute_result"
    }
   ],
   "source": [
    "df2.describe().apply(lambda s: s.apply('{0:.1f}'.format))"
   ]
  },
  {
   "cell_type": "markdown",
   "metadata": {
    "pycharm": {
     "name": "#%% md\n"
    }
   },
   "source": [
    "Vemos valores atípicos de __precio__ como: Máximos de __USD 32.434.232__ y mínimos de __USD 6.000__. <br>\n",
    "Vemos valores atípicos de __superficie total__ como: Máximos de __126.062 mt2__ y mínimos de __10 mt2__.<br>\n",
    "Vemos valores atípicos de __superficie cubierta__ como: Máximos de __126.062 mt2__ y mínimos de __1 mt2__.<br>\n",
    "Vemos valores atípicos de __habitaciones__ como: Máximos de __15 HAB__ y mínimos de __0 HAB__.<br>\n",
    "Vemos valores atípicos de __baños__ como: Máximos de __14 Baños__.<br>\n",
    "Vemos valores atípicos de __ambientes__ como: Máximos de __26 ambientes__."
   ]
  },
  {
   "cell_type": "markdown",
   "metadata": {
    "pycharm": {
     "name": "#%% md\n"
    }
   },
   "source": [
    "Vamos a trabajar con métido de __Rango Intercuartílico__ donde cualquier número fuera de este rango (mutiplicado por la constante 1.5 para discernir verdaderos outliers) es un valor atípico. "
   ]
  },
  {
   "cell_type": "markdown",
   "metadata": {
    "heading_collapsed": "true"
   },
   "source": [
    "##### __Rango IQR__"
   ]
  },
  {
   "cell_type": "code",
   "execution_count": 10,
   "metadata": {
    "pycharm": {
     "name": "#%%\n"
    }
   },
   "outputs": [],
   "source": [
    "# Filtra por rango IQR * 1.5\n",
    "\n",
    "def iqr (feature, dataframe):\n",
    "    q25,q75 = np.nanpercentile(dataframe[feature].values, [25,75])\n",
    "    iqr = q75 - q25\n",
    "    minimo = round(q25 - 1.5 * iqr)\n",
    "    maximo = round(q75 + 1.5 * iqr)\n",
    "    mascara1 = (dataframe[feature] < minimo) | (dataframe[feature] > maximo)\n",
    "    dataframe = dataframe[~mascara1]\n",
    "    \n",
    "    return dataframe"
   ]
  },
  {
   "cell_type": "markdown",
   "metadata": {
    "heading_collapsed": "true",
    "pycharm": {
     "name": "#%% md\n"
    }
   },
   "source": [
    "##### __Eliminación de Outliers__"
   ]
  },
  {
   "cell_type": "code",
   "execution_count": 11,
   "metadata": {
    "pycharm": {
     "name": "#%%\n"
    }
   },
   "outputs": [
    {
     "data": {
      "text/html": [
       "<div>\n",
       "<style scoped>\n",
       "    .dataframe tbody tr th:only-of-type {\n",
       "        vertical-align: middle;\n",
       "    }\n",
       "\n",
       "    .dataframe tbody tr th {\n",
       "        vertical-align: top;\n",
       "    }\n",
       "\n",
       "    .dataframe thead th {\n",
       "        text-align: right;\n",
       "    }\n",
       "</style>\n",
       "<table border=\"1\" class=\"dataframe\">\n",
       "  <thead>\n",
       "    <tr style=\"text-align: right;\">\n",
       "      <th></th>\n",
       "      <th>rooms</th>\n",
       "      <th>bedrooms</th>\n",
       "      <th>bathrooms</th>\n",
       "      <th>surface_total</th>\n",
       "      <th>surface_covered</th>\n",
       "      <th>price</th>\n",
       "      <th>lat</th>\n",
       "      <th>lon</th>\n",
       "    </tr>\n",
       "  </thead>\n",
       "  <tbody>\n",
       "    <tr>\n",
       "      <th>count</th>\n",
       "      <td>75211.000000</td>\n",
       "      <td>75211.000000</td>\n",
       "      <td>73304.000000</td>\n",
       "      <td>67133.000000</td>\n",
       "      <td>66866.000000</td>\n",
       "      <td>75211.000000</td>\n",
       "      <td>71898.000000</td>\n",
       "      <td>71887.000000</td>\n",
       "    </tr>\n",
       "    <tr>\n",
       "      <th>mean</th>\n",
       "      <td>2.580806</td>\n",
       "      <td>1.660741</td>\n",
       "      <td>1.324880</td>\n",
       "      <td>67.913455</td>\n",
       "      <td>60.534592</td>\n",
       "      <td>177828.476686</td>\n",
       "      <td>-34.599394</td>\n",
       "      <td>-58.437407</td>\n",
       "    </tr>\n",
       "    <tr>\n",
       "      <th>std</th>\n",
       "      <td>0.906342</td>\n",
       "      <td>0.786939</td>\n",
       "      <td>0.567047</td>\n",
       "      <td>28.289927</td>\n",
       "      <td>24.503075</td>\n",
       "      <td>87974.669080</td>\n",
       "      <td>0.023526</td>\n",
       "      <td>0.035314</td>\n",
       "    </tr>\n",
       "    <tr>\n",
       "      <th>min</th>\n",
       "      <td>1.000000</td>\n",
       "      <td>0.000000</td>\n",
       "      <td>1.000000</td>\n",
       "      <td>10.000000</td>\n",
       "      <td>1.000000</td>\n",
       "      <td>7500.000000</td>\n",
       "      <td>-34.696419</td>\n",
       "      <td>-58.530467</td>\n",
       "    </tr>\n",
       "    <tr>\n",
       "      <th>25%</th>\n",
       "      <td>2.000000</td>\n",
       "      <td>1.000000</td>\n",
       "      <td>1.000000</td>\n",
       "      <td>46.000000</td>\n",
       "      <td>42.000000</td>\n",
       "      <td>114000.000000</td>\n",
       "      <td>-34.613799</td>\n",
       "      <td>-58.460145</td>\n",
       "    </tr>\n",
       "    <tr>\n",
       "      <th>50%</th>\n",
       "      <td>3.000000</td>\n",
       "      <td>2.000000</td>\n",
       "      <td>1.000000</td>\n",
       "      <td>62.000000</td>\n",
       "      <td>55.000000</td>\n",
       "      <td>155750.000000</td>\n",
       "      <td>-34.600161</td>\n",
       "      <td>-58.434603</td>\n",
       "    </tr>\n",
       "    <tr>\n",
       "      <th>75%</th>\n",
       "      <td>3.000000</td>\n",
       "      <td>2.000000</td>\n",
       "      <td>2.000000</td>\n",
       "      <td>84.000000</td>\n",
       "      <td>75.000000</td>\n",
       "      <td>223000.000000</td>\n",
       "      <td>-34.585381</td>\n",
       "      <td>-58.412973</td>\n",
       "    </tr>\n",
       "    <tr>\n",
       "      <th>max</th>\n",
       "      <td>4.000000</td>\n",
       "      <td>4.000000</td>\n",
       "      <td>4.000000</td>\n",
       "      <td>154.000000</td>\n",
       "      <td>146.000000</td>\n",
       "      <td>517266.000000</td>\n",
       "      <td>-34.535818</td>\n",
       "      <td>-58.353930</td>\n",
       "    </tr>\n",
       "  </tbody>\n",
       "</table>\n",
       "</div>"
      ],
      "text/plain": [
       "              rooms      bedrooms     bathrooms  surface_total  \\\n",
       "count  75211.000000  75211.000000  73304.000000   67133.000000   \n",
       "mean       2.580806      1.660741      1.324880      67.913455   \n",
       "std        0.906342      0.786939      0.567047      28.289927   \n",
       "min        1.000000      0.000000      1.000000      10.000000   \n",
       "25%        2.000000      1.000000      1.000000      46.000000   \n",
       "50%        3.000000      2.000000      1.000000      62.000000   \n",
       "75%        3.000000      2.000000      2.000000      84.000000   \n",
       "max        4.000000      4.000000      4.000000     154.000000   \n",
       "\n",
       "       surface_covered          price           lat           lon  \n",
       "count     66866.000000   75211.000000  71898.000000  71887.000000  \n",
       "mean         60.534592  177828.476686    -34.599394    -58.437407  \n",
       "std          24.503075   87974.669080      0.023526      0.035314  \n",
       "min           1.000000    7500.000000    -34.696419    -58.530467  \n",
       "25%          42.000000  114000.000000    -34.613799    -58.460145  \n",
       "50%          55.000000  155750.000000    -34.600161    -58.434603  \n",
       "75%          75.000000  223000.000000    -34.585381    -58.412973  \n",
       "max         146.000000  517266.000000    -34.535818    -58.353930  "
      ]
     },
     "execution_count": 11,
     "metadata": {},
     "output_type": "execute_result"
    }
   ],
   "source": [
    "columns = ['price', 'surface_covered', 'surface_total','rooms', 'bedrooms', 'bathrooms' ]\n",
    "\n",
    "for col in columns:\n",
    "    df2 = iqr (col, df2)\n",
    "    \n",
    "df2.describe()"
   ]
  },
  {
   "cell_type": "markdown",
   "metadata": {},
   "source": [
    "#### __2 -  Corrección de valores mal ingresados e Imputación__"
   ]
  },
  {
   "cell_type": "markdown",
   "metadata": {
    "heading_collapsed": "true",
    "pycharm": {
     "name": "#%% md\n"
    }
   },
   "source": [
    "##### <font color=Blue>__Bedrooms__</font>"
   ]
  },
  {
   "cell_type": "markdown",
   "metadata": {
    "pycharm": {
     "name": "#%% md\n"
    }
   },
   "source": [
    "Los 2200 valores `bedrooms` con valor 0 decidimos tratarlos como __NaNs__ e imputar. 2173 son monoambientes, por lo tanto le vamos a imputarlos con el valor 1. "
   ]
  },
  {
   "cell_type": "code",
   "execution_count": 12,
   "metadata": {},
   "outputs": [
    {
     "name": "stdout",
     "output_type": "stream",
     "text": [
      "1.0    33686\n",
      "2.0    26843\n",
      "3.0    12394\n",
      "0.0     2200\n",
      "4.0       88\n",
      "Name: bedrooms, dtype: int64\n",
      "1.0    2173\n",
      "3.0      12\n",
      "2.0      12\n",
      "4.0       3\n",
      "Name: rooms, dtype: int64\n"
     ]
    }
   ],
   "source": [
    "print(df2.bedrooms.value_counts())\n",
    "print(df2[(df2.bedrooms == 0)].rooms.value_counts())"
   ]
  },
  {
   "cell_type": "code",
   "execution_count": 13,
   "metadata": {
    "pycharm": {
     "name": "#%%\n"
    }
   },
   "outputs": [
    {
     "data": {
      "text/plain": [
       "1.0    35859\n",
       "2.0    26843\n",
       "3.0    12394\n",
       "4.0       88\n",
       "Name: bedrooms, dtype: int64"
      ]
     },
     "execution_count": 13,
     "metadata": {},
     "output_type": "execute_result"
    }
   ],
   "source": [
    "condition = (df2.rooms == 1) & (df2.bedrooms == 0)\n",
    "df2.bedrooms[condition] = df2.bedrooms[condition].replace(0,1)\n",
    "\n",
    "# Los restante los eliminamos\n",
    "df2 = df2[df2.bedrooms > 0]\n",
    "\n",
    "df2.bedrooms.value_counts()"
   ]
  },
  {
   "cell_type": "markdown",
   "metadata": {},
   "source": [
    "##### <font color=Blue>__Superficie Cubierta y Superficie total__</font>"
   ]
  },
  {
   "cell_type": "markdown",
   "metadata": {
    "heading_collapsed": "true",
    "pycharm": {
     "name": "#%% md\n"
    }
   },
   "source": [
    "###### Imputación valores `surface_total` <-> `surface_covered`"
   ]
  },
  {
   "cell_type": "code",
   "execution_count": 14,
   "metadata": {
    "pycharm": {
     "name": "#%%\n"
    }
   },
   "outputs": [],
   "source": [
    "condition = (df2.surface_covered > df2.surface_total)\n",
    "df2.surface_covered, df2.surface_total = np.where(condition, [df2.surface_total, df2.surface_covered], [df2.surface_covered, df2.surface_total])"
   ]
  },
  {
   "cell_type": "markdown",
   "metadata": {
    "heading_collapsed": "true",
    "pycharm": {
     "name": "#%% md\n"
    }
   },
   "source": [
    "###### Imputación valores null en `surface_total`"
   ]
  },
  {
   "cell_type": "markdown",
   "metadata": {
    "pycharm": {
     "name": "#%% md\n"
    }
   },
   "source": [
    "La variable más correlacionada con __surface_total__ es __rooms__. Por lo tanto, la vamos a tomar para imputar los valores de mediana dependiendo las instancias. "
   ]
  },
  {
   "cell_type": "code",
   "execution_count": 16,
   "metadata": {
    "pycharm": {
     "name": "#%%\n"
    }
   },
   "outputs": [],
   "source": [
    "values_median_rooms = round(df2.groupby('rooms')['surface_total'].median())\n",
    "\n",
    "df2.surface_total = df2.surface_total.fillna(df2.rooms.map(values_median_rooms))"
   ]
  },
  {
   "cell_type": "markdown",
   "metadata": {
    "heading_collapsed": "true"
   },
   "source": [
    "###### Imputación valores null en `surface_covered`"
   ]
  },
  {
   "cell_type": "markdown",
   "metadata": {
    "pycharm": {
     "name": "#%% md\n"
    }
   },
   "source": [
    "Sabemos que la correlación entre `surface_covered` y `surface_total` es de 92%."
   ]
  },
  {
   "cell_type": "code",
   "execution_count": 17,
   "metadata": {},
   "outputs": [],
   "source": [
    "null = df2.surface_covered.isnull()\n",
    "df2.surface_covered = np.where(null, df2.surface_total, df2.surface_covered)"
   ]
  },
  {
   "cell_type": "markdown",
   "metadata": {
    "heading_collapsed": "true"
   },
   "source": [
    "###### Imputación valores atípicos bajos en `surface_covered` _(Que no fueron filtrados por IQR)_ Los que tienen valores de `surface_total` correcto se les asigna ese valor. Los demás se eliminan."
   ]
  },
  {
   "cell_type": "code",
   "execution_count": 18,
   "metadata": {},
   "outputs": [],
   "source": [
    "rare = df2.surface_covered < 13.0\n",
    "df2.surface_covered = np.where(rare, df2.surface_total, df2.surface_covered)\n",
    " \n",
    "df2 = df2.drop(df2[(df2.surface_covered < 13.0)].index)"
   ]
  },
  {
   "cell_type": "markdown",
   "metadata": {
    "heading_collapsed": "true"
   },
   "source": [
    "##### <font color=Blue>__Latitud y Longitud__</font>"
   ]
  },
  {
   "cell_type": "markdown",
   "metadata": {
    "pycharm": {
     "name": "#%% md\n"
    }
   },
   "source": [
    "Imputación de datos faltantes en `lat` y de `lon`."
   ]
  },
  {
   "cell_type": "code",
   "execution_count": 19,
   "metadata": {
    "pycharm": {
     "name": "#%%\n"
    }
   },
   "outputs": [
    {
     "data": {
      "text/html": [
       "<div>\n",
       "<style scoped>\n",
       "    .dataframe tbody tr th:only-of-type {\n",
       "        vertical-align: middle;\n",
       "    }\n",
       "\n",
       "    .dataframe tbody tr th {\n",
       "        vertical-align: top;\n",
       "    }\n",
       "\n",
       "    .dataframe thead th {\n",
       "        text-align: right;\n",
       "    }\n",
       "</style>\n",
       "<table border=\"1\" class=\"dataframe\">\n",
       "  <thead>\n",
       "    <tr style=\"text-align: right;\">\n",
       "      <th></th>\n",
       "      <th>rooms</th>\n",
       "      <th>bedrooms</th>\n",
       "      <th>bathrooms</th>\n",
       "      <th>surface_total</th>\n",
       "      <th>surface_covered</th>\n",
       "      <th>price</th>\n",
       "      <th>lat</th>\n",
       "      <th>lon</th>\n",
       "    </tr>\n",
       "  </thead>\n",
       "  <tbody>\n",
       "    <tr>\n",
       "      <th>count</th>\n",
       "      <td>75183.000000</td>\n",
       "      <td>75183.000000</td>\n",
       "      <td>73277.000000</td>\n",
       "      <td>75183.000000</td>\n",
       "      <td>75183.00000</td>\n",
       "      <td>75183.000000</td>\n",
       "      <td>75183.000000</td>\n",
       "      <td>75183.000000</td>\n",
       "    </tr>\n",
       "    <tr>\n",
       "      <th>mean</th>\n",
       "      <td>2.580796</td>\n",
       "      <td>1.690249</td>\n",
       "      <td>1.324904</td>\n",
       "      <td>67.109613</td>\n",
       "      <td>60.50272</td>\n",
       "      <td>177826.457577</td>\n",
       "      <td>-34.599164</td>\n",
       "      <td>-58.436880</td>\n",
       "    </tr>\n",
       "    <tr>\n",
       "      <th>std</th>\n",
       "      <td>0.906403</td>\n",
       "      <td>0.741982</td>\n",
       "      <td>0.567063</td>\n",
       "      <td>27.792251</td>\n",
       "      <td>24.20629</td>\n",
       "      <td>87976.086654</td>\n",
       "      <td>0.023399</td>\n",
       "      <td>0.035135</td>\n",
       "    </tr>\n",
       "    <tr>\n",
       "      <th>min</th>\n",
       "      <td>1.000000</td>\n",
       "      <td>1.000000</td>\n",
       "      <td>1.000000</td>\n",
       "      <td>13.000000</td>\n",
       "      <td>13.00000</td>\n",
       "      <td>7500.000000</td>\n",
       "      <td>-34.696419</td>\n",
       "      <td>-58.530467</td>\n",
       "    </tr>\n",
       "    <tr>\n",
       "      <th>25%</th>\n",
       "      <td>2.000000</td>\n",
       "      <td>1.000000</td>\n",
       "      <td>1.000000</td>\n",
       "      <td>46.000000</td>\n",
       "      <td>42.00000</td>\n",
       "      <td>114000.000000</td>\n",
       "      <td>-34.613682</td>\n",
       "      <td>-58.459479</td>\n",
       "    </tr>\n",
       "    <tr>\n",
       "      <th>50%</th>\n",
       "      <td>3.000000</td>\n",
       "      <td>2.000000</td>\n",
       "      <td>1.000000</td>\n",
       "      <td>61.000000</td>\n",
       "      <td>55.00000</td>\n",
       "      <td>155583.000000</td>\n",
       "      <td>-34.599666</td>\n",
       "      <td>-58.434109</td>\n",
       "    </tr>\n",
       "    <tr>\n",
       "      <th>75%</th>\n",
       "      <td>3.000000</td>\n",
       "      <td>2.000000</td>\n",
       "      <td>2.000000</td>\n",
       "      <td>83.000000</td>\n",
       "      <td>74.00000</td>\n",
       "      <td>223000.000000</td>\n",
       "      <td>-34.585766</td>\n",
       "      <td>-58.412600</td>\n",
       "    </tr>\n",
       "    <tr>\n",
       "      <th>max</th>\n",
       "      <td>4.000000</td>\n",
       "      <td>4.000000</td>\n",
       "      <td>4.000000</td>\n",
       "      <td>154.000000</td>\n",
       "      <td>153.00000</td>\n",
       "      <td>517266.000000</td>\n",
       "      <td>-34.535818</td>\n",
       "      <td>-58.353930</td>\n",
       "    </tr>\n",
       "  </tbody>\n",
       "</table>\n",
       "</div>"
      ],
      "text/plain": [
       "              rooms      bedrooms     bathrooms  surface_total  \\\n",
       "count  75183.000000  75183.000000  73277.000000   75183.000000   \n",
       "mean       2.580796      1.690249      1.324904      67.109613   \n",
       "std        0.906403      0.741982      0.567063      27.792251   \n",
       "min        1.000000      1.000000      1.000000      13.000000   \n",
       "25%        2.000000      1.000000      1.000000      46.000000   \n",
       "50%        3.000000      2.000000      1.000000      61.000000   \n",
       "75%        3.000000      2.000000      2.000000      83.000000   \n",
       "max        4.000000      4.000000      4.000000     154.000000   \n",
       "\n",
       "       surface_covered          price           lat           lon  \n",
       "count      75183.00000   75183.000000  75183.000000  75183.000000  \n",
       "mean          60.50272  177826.457577    -34.599164    -58.436880  \n",
       "std           24.20629   87976.086654      0.023399      0.035135  \n",
       "min           13.00000    7500.000000    -34.696419    -58.530467  \n",
       "25%           42.00000  114000.000000    -34.613682    -58.459479  \n",
       "50%           55.00000  155583.000000    -34.599666    -58.434109  \n",
       "75%           74.00000  223000.000000    -34.585766    -58.412600  \n",
       "max          153.00000  517266.000000    -34.535818    -58.353930  "
      ]
     },
     "execution_count": 19,
     "metadata": {},
     "output_type": "execute_result"
    }
   ],
   "source": [
    "valores_medios_lat = df2.groupby('l3')['lat'].mean()\n",
    "valores_medios_lon = df2.groupby('l3')['lon'].mean()\n",
    "\n",
    "df2.lat = df2.lat.fillna(df2.l3.map(valores_medios_lat))\n",
    "df2.lon = df2.lon.fillna(df2.l3.map(valores_medios_lon))\n",
    "\n",
    "df2 = df2.drop(columns=['l3'])\n",
    "df2.describe()"
   ]
  },
  {
   "cell_type": "markdown",
   "metadata": {
    "heading_collapsed": "true",
    "pycharm": {
     "name": "#%% md\n"
    }
   },
   "source": [
    "##### <font color=Blue>__Price__</font>"
   ]
  },
  {
   "cell_type": "markdown",
   "metadata": {},
   "source": [
    "Eliminamos valores muy bajos de `price`. La hipótesis que vamos a tomar, basado en búsquedas en intenet de propiedades similares, es que muchas veces se publican precios de inmuebles que aún no han sido construidos y son oportunidades de negocio. La otra hipótesis es que simplemente, pueden estar cargados y son alquileres. Según nuestra búsqueda en portales web no existen propiedades de menos de USD 25.000.\n",
    "\n",
    "Ejemplo de descripciones:\n",
    "\n",
    "1 - AV SAN MARTIN 1244 - VENTA DE POZO ENTREGA FEB...<br>\n",
    "2 - Crowdfunding - Inverti en Palermo - Desde 4 mts2<br>\n",
    "3 - OPORTUNIDAD DE INVERSION !<br>"
   ]
  },
  {
   "cell_type": "code",
   "execution_count": 20,
   "metadata": {},
   "outputs": [
    {
     "name": "stdout",
     "output_type": "stream",
     "text": [
      "19\n",
      "0\n"
     ]
    },
    {
     "data": {
      "text/plain": [
       "rooms                 0\n",
       "bedrooms              0\n",
       "bathrooms          1905\n",
       "surface_total         0\n",
       "surface_covered       0\n",
       "price                 0\n",
       "property_type         0\n",
       "lat                   0\n",
       "lon                   0\n",
       "dtype: int64"
      ]
     },
     "execution_count": 20,
     "metadata": {},
     "output_type": "execute_result"
    }
   ],
   "source": [
    "print(df2[df2.price <= 25000].price.count())\n",
    "df2 = df2.drop(df2[df2.price <= 25000].index)\n",
    "print(df2[df2.price <= 25000].price.count())\n",
    "df2.isna().sum()"
   ]
  },
  {
   "cell_type": "markdown",
   "metadata": {
    "heading_collapsed": "true"
   },
   "source": [
    "##### __Bathrooms__"
   ]
  },
  {
   "cell_type": "markdown",
   "metadata": {
    "pycharm": {
     "name": "#%% md\n"
    }
   },
   "source": [
    "Imputamos por el valor medio de `bathroom`que es el atributo más correlacionado."
   ]
  },
  {
   "cell_type": "code",
   "execution_count": 21,
   "metadata": {
    "pycharm": {
     "name": "#%%\n"
    }
   },
   "outputs": [],
   "source": [
    "values_mean_bathrooms = round(df2.groupby('bedrooms')['bathrooms'].mean())\n",
    "df2.bathrooms = df2.bathrooms.fillna(df2.bedrooms.map(values_mean_bathrooms))"
   ]
  },
  {
   "cell_type": "markdown",
   "metadata": {
    "heading_collapsed": "true"
   },
   "source": [
    "##### __Dataset Preprocesado__"
   ]
  },
  {
   "cell_type": "markdown",
   "metadata": {
    "pycharm": {
     "name": "#%% md\n"
    }
   },
   "source": [
    "Quitamos `l3`, que son los barrios. Esta variable sirvió para imputar valores de `lat` y `lon`)."
   ]
  },
  {
   "cell_type": "code",
   "execution_count": 22,
   "metadata": {},
   "outputs": [],
   "source": [
    "df2 = df2.reset_index(drop=True)"
   ]
  },
  {
   "cell_type": "code",
   "execution_count": null,
   "outputs": [],
   "source": [
    "df2.describe()"
   ],
   "metadata": {
    "collapsed": false,
    "pycharm": {
     "name": "#%%\n"
    }
   }
  },
  {
   "cell_type": "markdown",
   "source": [
    "#### __3 -  Encoders__"
   ],
   "metadata": {
    "collapsed": false
   }
  },
  {
   "cell_type": "markdown",
   "source": [
    "Vamos a crear variables numéricas para __property_type__"
   ],
   "metadata": {
    "collapsed": false
   }
  },
  {
   "cell_type": "code",
   "execution_count": null,
   "outputs": [],
   "source": [
    "new_columns = pd.get_dummies(df2.property_type)\n",
    "df2 = pd.concat([df2, new_columns], axis=1)\n",
    "df_final = df2.drop(columns=['property_type'])\n",
    "print('El dataset original tiene', df2.shape[1], 'columnas y', df2.shape[0], 'filas')\n",
    "df_final.describe()"
   ],
   "metadata": {
    "collapsed": false,
    "pycharm": {
     "name": "#%%\n"
    }
   }
  },
  {
   "cell_type": "markdown",
   "source": [
    "#### __4 - Train_Test_Split y Normalización__"
   ],
   "metadata": {
    "collapsed": false
   }
  },
  {
   "cell_type": "code",
   "execution_count": null,
   "outputs": [],
   "source": [
    "from sklearn.model_selection import train_test_split\n",
    "\n",
    "columns = ['rooms', 'bedrooms', 'bathrooms', 'surface_total', 'surface_covered', 'lat', 'lon', 'Casa', 'Departamento', 'PH' ]\n",
    "#columns = ['rooms', 'bedrooms', 'bathrooms', 'surface_total', 'surface_covered']\n",
    "\n",
    "X = df_final[columns]\n",
    "y = df_final.price\n",
    "\n",
    "X_train, X_test, y_train, y_test = train_test_split(X, y, test_size=0.30, random_state=42)"
   ],
   "metadata": {
    "collapsed": false,
    "pycharm": {
     "name": "#%%\n"
    }
   }
  },
  {
   "cell_type": "code",
   "execution_count": null,
   "outputs": [],
   "source": [
    "from sklearn.preprocessing import StandardScaler\n",
    "\n",
    "scaler = StandardScaler()\n",
    "\n",
    "X_train = scaler.fit_transform(X_train)\n",
    "X_test = scaler.transform(X_test)"
   ],
   "metadata": {
    "collapsed": false,
    "pycharm": {
     "name": "#%%\n"
    }
   }
  },
  {
   "cell_type": "markdown",
   "source": [
    "#### __5 - Modelo KNN__"
   ],
   "metadata": {
    "collapsed": false
   }
  },
  {
   "cell_type": "markdown",
   "source": [
    "##### __Función Eval__"
   ],
   "metadata": {
    "collapsed": false
   }
  },
  {
   "cell_type": "code",
   "execution_count": null,
   "outputs": [],
   "source": [
    "def eval_model (X_train, X_test, y_train, y_test, y_train_pred, y_test_pred):\n",
    "    \n",
    "    from sklearn.tree import DecisionTreeRegressor\n",
    "    from sklearn.metrics import mean_squared_error\n",
    "    #from sklearn.metrics import mean_absolute_error#\n",
    "\n",
    "    rmse_train = np.sqrt(mean_squared_error(y_train, y_train_pred))\n",
    "    rmse_test = np.sqrt(mean_squared_error(y_test, y_test_pred))\n",
    "    #mae_train = np.sqrt(mean_absolute_error(y_train, y_train_pred))\n",
    "    #mae_test = np.sqrt(mean_absolute_error(y_test, y_test_pred))\n",
    "    print(f'Raíz del error cuadrático medio en Train: {rmse_train}')\n",
    "    print(f'Raíz del error cuadrático medio en Test: {rmse_test}')\n",
    "    #print(f'Error absoluto medio en train: {mae_train}')\n",
    "    #print(f'Error absoluto medio en test: {mae_test}')\n",
    "    \n",
    "    plt.figure(figsize = (15,7))\n",
    "    \n",
    "    plt.subplot(1,2,1)\n",
    "    sns.distplot(y_train - y_train_pred, bins = 15, label = 'train')\n",
    "    sns.distplot(y_test - y_test_pred, bins = 15, label = 'test')\n",
    "    plt.xlabel('errores')\n",
    "    plt.ticklabel_format(style = 'plain')\n",
    "    plt.legend()\n",
    "    \n",
    "    \n",
    "    ax = plt.subplot(1,2,2)\n",
    "    ax.scatter(y_test,y_test_pred, s =2)\n",
    " \n",
    "    lims = [\n",
    "    np.min([ax.get_xlim(), ax.get_ylim()]),  # min of both axes\n",
    "    np.max([ax.get_xlim(), ax.get_ylim()]),  # max of both axes]\n",
    "    ]\n",
    "    \n",
    "    ax.plot(lims, lims, 'k-', alpha=0.75, zorder=0)\n",
    "    plt.xlabel('y (test)')\n",
    "    plt.ylabel('y_pred (test)')\n",
    "    \n",
    "    #plt.tight_layout()\n",
    "    plt.ticklabel_format(style = 'plain')\n",
    "    plt.show()"
   ],
   "metadata": {
    "collapsed": false,
    "pycharm": {
     "name": "#%%\n"
    }
   }
  },
  {
   "cell_type": "code",
   "execution_count": null,
   "outputs": [],
   "source": [
    "from sklearn.neighbors import KNeighborsRegressor\n",
    "from sklearn.model_selection import GridSearchCV\n",
    "\n",
    "knn_regressor = KNeighborsRegressor()\n",
    "\n",
    "param_grid = {'n_neighbors': [0,5,10,15],\n",
    "               'weights' : ['uniform', 'distance']}\n",
    "\n",
    "knn_regr_GS = GridSearchCV(knn_regressor, param_grid=param_grid, cv=5)\n",
    "\n",
    "knn_regr_GS.fit(X_train, y_train)\n",
    "print(\"Mejores parametros: \"+str(knn_regr_GS.best_params_))\n",
    "print(\"Mejor Score: \"+str(knn_regr_GS.best_score_)+'\\n')\n",
    "\n",
    "y_test_pred = knn_regr_GS.predict(X_test)\n",
    "y_train_pred = knn_regr_GS.predict(X_train)"
   ],
   "metadata": {
    "collapsed": false,
    "pycharm": {
     "name": "#%%\n"
    }
   }
  },
  {
   "cell_type": "code",
   "execution_count": null,
   "outputs": [],
   "source": [
    "eval_model (X_train, X_test, y_train, y_test, y_train_pred, y_test_pred)"
   ],
   "metadata": {
    "collapsed": false,
    "pycharm": {
     "name": "#%%\n"
    }
   }
  },
  {
   "cell_type": "markdown",
   "source": [
    "#### __6 - Puesta en producción__"
   ],
   "metadata": {
    "collapsed": false
   }
  },
  {
   "cell_type": "code",
   "execution_count": null,
   "outputs": [],
   "source": [
    "scaler_final = StandardScaler()\n",
    "X = scaler_final.fit_transform(X)\n",
    "knn_regressor = KNeighborsRegressor(n_neighbors=15, weights='distance')\n",
    "knn_regressor.fit(X, y)\n",
    "model = {\"modelo\":knn_regressor,\n",
    "         \"scaler\":scaler_final}"
   ],
   "metadata": {
    "collapsed": false,
    "pycharm": {
     "name": "#%%\n"
    }
   }
  },
  {
   "cell_type": "code",
   "execution_count": null,
   "outputs": [],
   "source": [
    "import pickle\n",
    "with open('./tmp/model.pickle','wb') as file:\n",
    "    pickle.dump(model, file)"
   ],
   "metadata": {
    "collapsed": false,
    "pycharm": {
     "name": "#%%\n"
    }
   }
  },
  {
   "cell_type": "code",
   "execution_count": null,
   "outputs": [],
   "source": [
    "import pickle\n",
    "with open('./tmp/model.pickle','wb') as file:\n",
    "    pickle.dump(model, file)"
   ],
   "metadata": {
    "collapsed": false,
    "pycharm": {
     "name": "#%%\n"
    }
   }
  },
  {
   "cell_type": "markdown",
   "source": [
    "#### __3 -  Encoders__"
   ],
   "metadata": {
    "collapsed": false
   }
  },
  {
   "cell_type": "markdown",
   "source": [
    "Vamos a crear variables numéricas para __property_type__"
   ],
   "metadata": {
    "collapsed": false
   }
  },
  {
   "cell_type": "code",
   "execution_count": null,
   "outputs": [],
   "source": [
    "new_columns = pd.get_dummies(df2.property_type)\n",
    "df2 = pd.concat([df2, new_columns], axis=1)\n",
    "df_final = df2.drop(columns=['property_type'])\n",
    "print('El dataset original tiene', df2.shape[1], 'columnas y', df2.shape[0], 'filas')\n",
    "df_final.describe()"
   ],
   "metadata": {
    "collapsed": false,
    "pycharm": {
     "name": "#%%\n"
    }
   }
  },
  {
   "cell_type": "markdown",
   "source": [
    "#### __4 - Train_Test_Split y Normalización__"
   ],
   "metadata": {
    "collapsed": false
   }
  },
  {
   "cell_type": "code",
   "execution_count": null,
   "outputs": [],
   "source": [
    "from sklearn.model_selection import train_test_split\n",
    "\n",
    "columns = ['rooms', 'bedrooms', 'bathrooms', 'surface_total', 'surface_covered', 'lat', 'lon', 'Casa', 'Departamento', 'PH' ]\n",
    "#columns = ['rooms', 'bedrooms', 'bathrooms', 'surface_total', 'surface_covered']\n",
    "\n",
    "X = df_final[columns]\n",
    "y = df_final.price\n",
    "\n",
    "X_train, X_test, y_train, y_test = train_test_split(X, y, test_size=0.30, random_state=42)"
   ],
   "metadata": {
    "collapsed": false,
    "pycharm": {
     "name": "#%%\n"
    }
   }
  },
  {
   "cell_type": "code",
   "execution_count": null,
   "outputs": [],
   "source": [
    "from sklearn.preprocessing import StandardScaler\n",
    "\n",
    "scaler = StandardScaler()\n",
    "\n",
    "X_train = scaler.fit_transform(X_train)\n",
    "X_test = scaler.transform(X_test)"
   ],
   "metadata": {
    "collapsed": false,
    "pycharm": {
     "name": "#%%\n"
    }
   }
  },
  {
   "cell_type": "markdown",
   "source": [
    "#### __5 - Modelo KNN__"
   ],
   "metadata": {
    "collapsed": false
   }
  },
  {
   "cell_type": "markdown",
   "source": [
    "##### __Función Eval__"
   ],
   "metadata": {
    "collapsed": false
   }
  },
  {
   "cell_type": "code",
   "execution_count": null,
   "outputs": [],
   "source": [
    "def eval_model (X_train, X_test, y_train, y_test, y_train_pred, y_test_pred):\n",
    "    \n",
    "    from sklearn.tree import DecisionTreeRegressor\n",
    "    from sklearn.metrics import mean_squared_error\n",
    "    #from sklearn.metrics import mean_absolute_error#\n",
    "\n",
    "    rmse_train = np.sqrt(mean_squared_error(y_train, y_train_pred))\n",
    "    rmse_test = np.sqrt(mean_squared_error(y_test, y_test_pred))\n",
    "    #mae_train = np.sqrt(mean_absolute_error(y_train, y_train_pred))\n",
    "    #mae_test = np.sqrt(mean_absolute_error(y_test, y_test_pred))\n",
    "    print(f'Raíz del error cuadrático medio en Train: {rmse_train}')\n",
    "    print(f'Raíz del error cuadrático medio en Test: {rmse_test}')\n",
    "    #print(f'Error absoluto medio en train: {mae_train}')\n",
    "    #print(f'Error absoluto medio en test: {mae_test}')\n",
    "    \n",
    "    plt.figure(figsize = (15,7))\n",
    "    \n",
    "    plt.subplot(1,2,1)\n",
    "    sns.distplot(y_train - y_train_pred, bins = 15, label = 'train')\n",
    "    sns.distplot(y_test - y_test_pred, bins = 15, label = 'test')\n",
    "    plt.xlabel('errores')\n",
    "    plt.ticklabel_format(style = 'plain')\n",
    "    plt.legend()\n",
    "    \n",
    "    \n",
    "    ax = plt.subplot(1,2,2)\n",
    "    ax.scatter(y_test,y_test_pred, s =2)\n",
    " \n",
    "    lims = [\n",
    "    np.min([ax.get_xlim(), ax.get_ylim()]),  # min of both axes\n",
    "    np.max([ax.get_xlim(), ax.get_ylim()]),  # max of both axes]\n",
    "    ]\n",
    "    \n",
    "    ax.plot(lims, lims, 'k-', alpha=0.75, zorder=0)\n",
    "    plt.xlabel('y (test)')\n",
    "    plt.ylabel('y_pred (test)')\n",
    "    \n",
    "    #plt.tight_layout()\n",
    "    plt.ticklabel_format(style = 'plain')\n",
    "    plt.show()"
   ],
   "metadata": {
    "collapsed": false,
    "pycharm": {
     "name": "#%%\n"
    }
   }
  },
  {
   "cell_type": "code",
   "execution_count": null,
   "outputs": [],
   "source": [
    "from sklearn.neighbors import KNeighborsRegressor\n",
    "from sklearn.model_selection import GridSearchCV\n",
    "\n",
    "knn_regressor = KNeighborsRegressor()\n",
    "\n",
    "param_grid = {'n_neighbors': [0,5,10,15],\n",
    "               'weights' : ['uniform', 'distance']}\n",
    "\n",
    "knn_regr_GS = GridSearchCV(knn_regressor, param_grid=param_grid, cv=5)\n",
    "\n",
    "knn_regr_GS.fit(X_train, y_train)\n",
    "print(\"Mejores parametros: \"+str(knn_regr_GS.best_params_))\n",
    "print(\"Mejor Score: \"+str(knn_regr_GS.best_score_)+'\\n')\n",
    "\n",
    "y_test_pred = knn_regr_GS.predict(X_test)\n",
    "y_train_pred = knn_regr_GS.predict(X_train)"
   ],
   "metadata": {
    "collapsed": false,
    "pycharm": {
     "name": "#%%\n"
    }
   }
  },
  {
   "cell_type": "code",
   "execution_count": null,
   "outputs": [],
   "source": [
    "eval_model (X_train, X_test, y_train, y_test, y_train_pred, y_test_pred)"
   ],
   "metadata": {
    "collapsed": false,
    "pycharm": {
     "name": "#%%\n"
    }
   }
  },
  {
   "cell_type": "markdown",
   "source": [
    "#### __6 - Puesta en producción__"
   ],
   "metadata": {
    "collapsed": false
   }
  },
  {
   "cell_type": "code",
   "execution_count": null,
   "outputs": [],
   "source": [
    "scaler_final = StandardScaler()\n",
    "X = scaler_final.fit_transform(X)\n",
    "knn_regressor = KNeighborsRegressor(n_neighbors=15, weights='distance')\n",
    "knn_regressor.fit(X, y)\n",
    "model = {\"modelo\":knn_regressor,\n",
    "         \"scaler\":scaler_final}"
   ],
   "metadata": {
    "collapsed": false,
    "pycharm": {
     "name": "#%%\n"
    }
   }
  },
  {
   "cell_type": "code",
   "execution_count": null,
   "outputs": [],
   "source": [
    "import pickle\n",
    "with open('./tmp/model.pickle','wb') as file:\n",
    "    pickle.dump(model, file)"
   ],
   "metadata": {
    "collapsed": false,
    "pycharm": {
     "name": "#%%\n"
    }
   }
  },
  {
   "cell_type": "code",
   "execution_count": 31,
   "metadata": {},
   "outputs": [
    {
     "data": {
      "text/html": [
       "<div>\n",
       "<style scoped>\n",
       "    .dataframe tbody tr th:only-of-type {\n",
       "        vertical-align: middle;\n",
       "    }\n",
       "\n",
       "    .dataframe tbody tr th {\n",
       "        vertical-align: top;\n",
       "    }\n",
       "\n",
       "    .dataframe thead th {\n",
       "        text-align: right;\n",
       "    }\n",
       "</style>\n",
       "<table border=\"1\" class=\"dataframe\">\n",
       "  <thead>\n",
       "    <tr style=\"text-align: right;\">\n",
       "      <th></th>\n",
       "      <th>rooms</th>\n",
       "      <th>bedrooms</th>\n",
       "      <th>bathrooms</th>\n",
       "      <th>surface_total</th>\n",
       "      <th>surface_covered</th>\n",
       "      <th>price</th>\n",
       "      <th>lat</th>\n",
       "      <th>lon</th>\n",
       "      <th>Casa</th>\n",
       "      <th>Departamento</th>\n",
       "      <th>PH</th>\n",
       "    </tr>\n",
       "  </thead>\n",
       "  <tbody>\n",
       "    <tr>\n",
       "      <th>count</th>\n",
       "      <td>75164.000000</td>\n",
       "      <td>75164.000000</td>\n",
       "      <td>75164.000000</td>\n",
       "      <td>75164.000000</td>\n",
       "      <td>75164.000000</td>\n",
       "      <td>75164.000000</td>\n",
       "      <td>75164.000000</td>\n",
       "      <td>75164.000000</td>\n",
       "      <td>75164.000000</td>\n",
       "      <td>75164.000000</td>\n",
       "      <td>75164.000000</td>\n",
       "    </tr>\n",
       "    <tr>\n",
       "      <th>mean</th>\n",
       "      <td>2.580970</td>\n",
       "      <td>1.690330</td>\n",
       "      <td>1.319382</td>\n",
       "      <td>67.116825</td>\n",
       "      <td>60.508368</td>\n",
       "      <td>177867.680805</td>\n",
       "      <td>-34.599158</td>\n",
       "      <td>-58.436871</td>\n",
       "      <td>0.008076</td>\n",
       "      <td>0.902773</td>\n",
       "      <td>0.089152</td>\n",
       "    </tr>\n",
       "    <tr>\n",
       "      <th>std</th>\n",
       "      <td>0.906321</td>\n",
       "      <td>0.742001</td>\n",
       "      <td>0.563054</td>\n",
       "      <td>27.789677</td>\n",
       "      <td>24.204058</td>\n",
       "      <td>87948.950670</td>\n",
       "      <td>0.023394</td>\n",
       "      <td>0.035130</td>\n",
       "      <td>0.089502</td>\n",
       "      <td>0.296269</td>\n",
       "      <td>0.284965</td>\n",
       "    </tr>\n",
       "    <tr>\n",
       "      <th>min</th>\n",
       "      <td>1.000000</td>\n",
       "      <td>1.000000</td>\n",
       "      <td>1.000000</td>\n",
       "      <td>13.000000</td>\n",
       "      <td>13.000000</td>\n",
       "      <td>25500.000000</td>\n",
       "      <td>-34.696419</td>\n",
       "      <td>-58.530467</td>\n",
       "      <td>0.000000</td>\n",
       "      <td>0.000000</td>\n",
       "      <td>0.000000</td>\n",
       "    </tr>\n",
       "    <tr>\n",
       "      <th>25%</th>\n",
       "      <td>2.000000</td>\n",
       "      <td>1.000000</td>\n",
       "      <td>1.000000</td>\n",
       "      <td>46.000000</td>\n",
       "      <td>42.000000</td>\n",
       "      <td>114000.000000</td>\n",
       "      <td>-34.613672</td>\n",
       "      <td>-58.459478</td>\n",
       "      <td>0.000000</td>\n",
       "      <td>1.000000</td>\n",
       "      <td>0.000000</td>\n",
       "    </tr>\n",
       "    <tr>\n",
       "      <th>50%</th>\n",
       "      <td>3.000000</td>\n",
       "      <td>2.000000</td>\n",
       "      <td>1.000000</td>\n",
       "      <td>61.000000</td>\n",
       "      <td>55.000000</td>\n",
       "      <td>155994.000000</td>\n",
       "      <td>-34.599658</td>\n",
       "      <td>-58.434109</td>\n",
       "      <td>0.000000</td>\n",
       "      <td>1.000000</td>\n",
       "      <td>0.000000</td>\n",
       "    </tr>\n",
       "    <tr>\n",
       "      <th>75%</th>\n",
       "      <td>3.000000</td>\n",
       "      <td>2.000000</td>\n",
       "      <td>2.000000</td>\n",
       "      <td>83.000000</td>\n",
       "      <td>74.000000</td>\n",
       "      <td>223000.000000</td>\n",
       "      <td>-34.585766</td>\n",
       "      <td>-58.412600</td>\n",
       "      <td>0.000000</td>\n",
       "      <td>1.000000</td>\n",
       "      <td>0.000000</td>\n",
       "    </tr>\n",
       "    <tr>\n",
       "      <th>max</th>\n",
       "      <td>4.000000</td>\n",
       "      <td>4.000000</td>\n",
       "      <td>4.000000</td>\n",
       "      <td>154.000000</td>\n",
       "      <td>153.000000</td>\n",
       "      <td>517266.000000</td>\n",
       "      <td>-34.535818</td>\n",
       "      <td>-58.353930</td>\n",
       "      <td>1.000000</td>\n",
       "      <td>1.000000</td>\n",
       "      <td>1.000000</td>\n",
       "    </tr>\n",
       "  </tbody>\n",
       "</table>\n",
       "</div>"
      ],
      "text/plain": [
       "              rooms      bedrooms     bathrooms  surface_total  \\\n",
       "count  75164.000000  75164.000000  75164.000000   75164.000000   \n",
       "mean       2.580970      1.690330      1.319382      67.116825   \n",
       "std        0.906321      0.742001      0.563054      27.789677   \n",
       "min        1.000000      1.000000      1.000000      13.000000   \n",
       "25%        2.000000      1.000000      1.000000      46.000000   \n",
       "50%        3.000000      2.000000      1.000000      61.000000   \n",
       "75%        3.000000      2.000000      2.000000      83.000000   \n",
       "max        4.000000      4.000000      4.000000     154.000000   \n",
       "\n",
       "       surface_covered          price           lat           lon  \\\n",
       "count     75164.000000   75164.000000  75164.000000  75164.000000   \n",
       "mean         60.508368  177867.680805    -34.599158    -58.436871   \n",
       "std          24.204058   87948.950670      0.023394      0.035130   \n",
       "min          13.000000   25500.000000    -34.696419    -58.530467   \n",
       "25%          42.000000  114000.000000    -34.613672    -58.459478   \n",
       "50%          55.000000  155994.000000    -34.599658    -58.434109   \n",
       "75%          74.000000  223000.000000    -34.585766    -58.412600   \n",
       "max         153.000000  517266.000000    -34.535818    -58.353930   \n",
       "\n",
       "               Casa  Departamento            PH  \n",
       "count  75164.000000  75164.000000  75164.000000  \n",
       "mean       0.008076      0.902773      0.089152  \n",
       "std        0.089502      0.296269      0.284965  \n",
       "min        0.000000      0.000000      0.000000  \n",
       "25%        0.000000      1.000000      0.000000  \n",
       "50%        0.000000      1.000000      0.000000  \n",
       "75%        0.000000      1.000000      0.000000  \n",
       "max        1.000000      1.000000      1.000000  "
      ]
     },
     "execution_count": 31,
     "metadata": {},
     "output_type": "execute_result"
    }
   ],
   "source": [
    "import pickle\n",
    "with open('./tmp/model.pickle','wb') as file:\n",
    "    pickle.dump(model, file)"
   ]
  },
  {
   "cell_type": "markdown",
   "metadata": {
    "heading_collapsed": "true"
   },
   "source": [
    "#### __3 -  Encoders__"
   ]
  },
  {
   "cell_type": "markdown",
   "metadata": {},
   "source": [
    "Vamos a crear variables numéricas para __property_type__"
   ]
  },
  {
   "cell_type": "code",
   "execution_count": 23,
   "metadata": {},
   "outputs": [
    {
     "name": "stdout",
     "output_type": "stream",
     "text": [
      "El dataset original tiene 12 columnas y 75164 filas\n"
     ]
    },
    {
     "data": {
      "text/html": [
       "<div>\n",
       "<style scoped>\n",
       "    .dataframe tbody tr th:only-of-type {\n",
       "        vertical-align: middle;\n",
       "    }\n",
       "\n",
       "    .dataframe tbody tr th {\n",
       "        vertical-align: top;\n",
       "    }\n",
       "\n",
       "    .dataframe thead th {\n",
       "        text-align: right;\n",
       "    }\n",
       "</style>\n",
       "<table border=\"1\" class=\"dataframe\">\n",
       "  <thead>\n",
       "    <tr style=\"text-align: right;\">\n",
       "      <th></th>\n",
       "      <th>rooms</th>\n",
       "      <th>bedrooms</th>\n",
       "      <th>bathrooms</th>\n",
       "      <th>surface_total</th>\n",
       "      <th>surface_covered</th>\n",
       "      <th>price</th>\n",
       "      <th>lat</th>\n",
       "      <th>lon</th>\n",
       "      <th>Casa</th>\n",
       "      <th>Departamento</th>\n",
       "      <th>PH</th>\n",
       "    </tr>\n",
       "  </thead>\n",
       "  <tbody>\n",
       "    <tr>\n",
       "      <th>count</th>\n",
       "      <td>75164.000000</td>\n",
       "      <td>75164.000000</td>\n",
       "      <td>75164.000000</td>\n",
       "      <td>75164.000000</td>\n",
       "      <td>75164.000000</td>\n",
       "      <td>75164.000000</td>\n",
       "      <td>75164.000000</td>\n",
       "      <td>75164.000000</td>\n",
       "      <td>75164.000000</td>\n",
       "      <td>75164.000000</td>\n",
       "      <td>75164.000000</td>\n",
       "    </tr>\n",
       "    <tr>\n",
       "      <th>mean</th>\n",
       "      <td>2.580970</td>\n",
       "      <td>1.690330</td>\n",
       "      <td>1.319382</td>\n",
       "      <td>67.116825</td>\n",
       "      <td>60.508368</td>\n",
       "      <td>177867.680805</td>\n",
       "      <td>-34.599158</td>\n",
       "      <td>-58.436871</td>\n",
       "      <td>0.008076</td>\n",
       "      <td>0.902773</td>\n",
       "      <td>0.089152</td>\n",
       "    </tr>\n",
       "    <tr>\n",
       "      <th>std</th>\n",
       "      <td>0.906321</td>\n",
       "      <td>0.742001</td>\n",
       "      <td>0.563054</td>\n",
       "      <td>27.789677</td>\n",
       "      <td>24.204058</td>\n",
       "      <td>87948.950670</td>\n",
       "      <td>0.023394</td>\n",
       "      <td>0.035130</td>\n",
       "      <td>0.089502</td>\n",
       "      <td>0.296269</td>\n",
       "      <td>0.284965</td>\n",
       "    </tr>\n",
       "    <tr>\n",
       "      <th>min</th>\n",
       "      <td>1.000000</td>\n",
       "      <td>1.000000</td>\n",
       "      <td>1.000000</td>\n",
       "      <td>13.000000</td>\n",
       "      <td>13.000000</td>\n",
       "      <td>25500.000000</td>\n",
       "      <td>-34.696419</td>\n",
       "      <td>-58.530467</td>\n",
       "      <td>0.000000</td>\n",
       "      <td>0.000000</td>\n",
       "      <td>0.000000</td>\n",
       "    </tr>\n",
       "    <tr>\n",
       "      <th>25%</th>\n",
       "      <td>2.000000</td>\n",
       "      <td>1.000000</td>\n",
       "      <td>1.000000</td>\n",
       "      <td>46.000000</td>\n",
       "      <td>42.000000</td>\n",
       "      <td>114000.000000</td>\n",
       "      <td>-34.613672</td>\n",
       "      <td>-58.459478</td>\n",
       "      <td>0.000000</td>\n",
       "      <td>1.000000</td>\n",
       "      <td>0.000000</td>\n",
       "    </tr>\n",
       "    <tr>\n",
       "      <th>50%</th>\n",
       "      <td>3.000000</td>\n",
       "      <td>2.000000</td>\n",
       "      <td>1.000000</td>\n",
       "      <td>61.000000</td>\n",
       "      <td>55.000000</td>\n",
       "      <td>155994.000000</td>\n",
       "      <td>-34.599658</td>\n",
       "      <td>-58.434109</td>\n",
       "      <td>0.000000</td>\n",
       "      <td>1.000000</td>\n",
       "      <td>0.000000</td>\n",
       "    </tr>\n",
       "    <tr>\n",
       "      <th>75%</th>\n",
       "      <td>3.000000</td>\n",
       "      <td>2.000000</td>\n",
       "      <td>2.000000</td>\n",
       "      <td>83.000000</td>\n",
       "      <td>74.000000</td>\n",
       "      <td>223000.000000</td>\n",
       "      <td>-34.585766</td>\n",
       "      <td>-58.412600</td>\n",
       "      <td>0.000000</td>\n",
       "      <td>1.000000</td>\n",
       "      <td>0.000000</td>\n",
       "    </tr>\n",
       "    <tr>\n",
       "      <th>max</th>\n",
       "      <td>4.000000</td>\n",
       "      <td>4.000000</td>\n",
       "      <td>4.000000</td>\n",
       "      <td>154.000000</td>\n",
       "      <td>153.000000</td>\n",
       "      <td>517266.000000</td>\n",
       "      <td>-34.535818</td>\n",
       "      <td>-58.353930</td>\n",
       "      <td>1.000000</td>\n",
       "      <td>1.000000</td>\n",
       "      <td>1.000000</td>\n",
       "    </tr>\n",
       "  </tbody>\n",
       "</table>\n",
       "</div>"
      ],
      "text/plain": [
       "              rooms      bedrooms     bathrooms  surface_total  \\\n",
       "count  75164.000000  75164.000000  75164.000000   75164.000000   \n",
       "mean       2.580970      1.690330      1.319382      67.116825   \n",
       "std        0.906321      0.742001      0.563054      27.789677   \n",
       "min        1.000000      1.000000      1.000000      13.000000   \n",
       "25%        2.000000      1.000000      1.000000      46.000000   \n",
       "50%        3.000000      2.000000      1.000000      61.000000   \n",
       "75%        3.000000      2.000000      2.000000      83.000000   \n",
       "max        4.000000      4.000000      4.000000     154.000000   \n",
       "\n",
       "       surface_covered          price           lat           lon  \\\n",
       "count     75164.000000   75164.000000  75164.000000  75164.000000   \n",
       "mean         60.508368  177867.680805    -34.599158    -58.436871   \n",
       "std          24.204058   87948.950670      0.023394      0.035130   \n",
       "min          13.000000   25500.000000    -34.696419    -58.530467   \n",
       "25%          42.000000  114000.000000    -34.613672    -58.459478   \n",
       "50%          55.000000  155994.000000    -34.599658    -58.434109   \n",
       "75%          74.000000  223000.000000    -34.585766    -58.412600   \n",
       "max         153.000000  517266.000000    -34.535818    -58.353930   \n",
       "\n",
       "               Casa  Departamento            PH  \n",
       "count  75164.000000  75164.000000  75164.000000  \n",
       "mean       0.008076      0.902773      0.089152  \n",
       "std        0.089502      0.296269      0.284965  \n",
       "min        0.000000      0.000000      0.000000  \n",
       "25%        0.000000      1.000000      0.000000  \n",
       "50%        0.000000      1.000000      0.000000  \n",
       "75%        0.000000      1.000000      0.000000  \n",
       "max        1.000000      1.000000      1.000000  "
      ]
     },
     "execution_count": 23,
     "metadata": {},
     "output_type": "execute_result"
    }
   ],
   "source": [
    "new_columns = pd.get_dummies(df2.property_type)\n",
    "df2 = pd.concat([df2, new_columns], axis=1)\n",
    "df_final = df2.drop(columns=['property_type'])\n",
    "print('El dataset original tiene', df2.shape[1], 'columnas y', df2.shape[0], 'filas')\n",
    "df_final.describe()"
   ]
  },
  {
   "cell_type": "markdown",
   "metadata": {
    "heading_collapsed": "true"
   },
   "source": [
    "#### __4 - Train_Test_Split y Normalización__"
   ]
  },
  {
   "cell_type": "code",
   "execution_count": 24,
   "metadata": {},
   "outputs": [],
   "source": [
    "from sklearn.model_selection import train_test_split\n",
    "\n",
    "columns = ['rooms', 'bedrooms', 'bathrooms', 'surface_total', 'surface_covered', 'lat', 'lon', 'Casa', 'Departamento', 'PH' ]\n",
    "#columns = ['rooms', 'bedrooms', 'bathrooms', 'surface_total', 'surface_covered']\n",
    "\n",
    "X = df_final[columns]\n",
    "y = df_final.price\n",
    "\n",
    "X_train, X_test, y_train, y_test = train_test_split(X, y, test_size=0.30, random_state=42)"
   ]
  },
  {
   "cell_type": "code",
   "execution_count": 25,
   "metadata": {},
   "outputs": [],
   "source": [
    "from sklearn.preprocessing import StandardScaler\n",
    "\n",
    "scaler = StandardScaler()\n",
    "\n",
    "X_train = scaler.fit_transform(X_train)\n",
    "X_test = scaler.transform(X_test)"
   ]
  },
  {
   "cell_type": "markdown",
   "metadata": {},
   "source": [
    "#### __5 - Modelo KNN__"
   ]
  },
  {
   "cell_type": "markdown",
   "metadata": {},
   "source": [
    "##### __Función Eval__"
   ]
  },
  {
   "cell_type": "code",
   "execution_count": 26,
   "metadata": {},
   "outputs": [],
   "source": [
    "def eval_model (X_train, X_test, y_train, y_test, y_train_pred, y_test_pred):\n",
    "    \n",
    "    from sklearn.tree import DecisionTreeRegressor\n",
    "    from sklearn.metrics import mean_squared_error\n",
    "    #from sklearn.metrics import mean_absolute_error#\n",
    "\n",
    "    rmse_train = np.sqrt(mean_squared_error(y_train, y_train_pred))\n",
    "    rmse_test = np.sqrt(mean_squared_error(y_test, y_test_pred))\n",
    "    #mae_train = np.sqrt(mean_absolute_error(y_train, y_train_pred))\n",
    "    #mae_test = np.sqrt(mean_absolute_error(y_test, y_test_pred))\n",
    "    print(f'Raíz del error cuadrático medio en Train: {rmse_train}')\n",
    "    print(f'Raíz del error cuadrático medio en Test: {rmse_test}')\n",
    "    #print(f'Error absoluto medio en train: {mae_train}')\n",
    "    #print(f'Error absoluto medio en test: {mae_test}')\n",
    "    \n",
    "    plt.figure(figsize = (15,7))\n",
    "    \n",
    "    plt.subplot(1,2,1)\n",
    "    sns.distplot(y_train - y_train_pred, bins = 15, label = 'train')\n",
    "    sns.distplot(y_test - y_test_pred, bins = 15, label = 'test')\n",
    "    plt.xlabel('errores')\n",
    "    plt.ticklabel_format(style = 'plain')\n",
    "    plt.legend()\n",
    "    \n",
    "    \n",
    "    ax = plt.subplot(1,2,2)\n",
    "    ax.scatter(y_test,y_test_pred, s =2)\n",
    " \n",
    "    lims = [\n",
    "    np.min([ax.get_xlim(), ax.get_ylim()]),  # min of both axes\n",
    "    np.max([ax.get_xlim(), ax.get_ylim()]),  # max of both axes]\n",
    "    ]\n",
    "    \n",
    "    ax.plot(lims, lims, 'k-', alpha=0.75, zorder=0)\n",
    "    plt.xlabel('y (test)')\n",
    "    plt.ylabel('y_pred (test)')\n",
    "    \n",
    "    #plt.tight_layout()\n",
    "    plt.ticklabel_format(style = 'plain')\n",
    "    plt.show()"
   ]
  },
  {
   "cell_type": "code",
   "execution_count": 27,
   "metadata": {},
   "outputs": [
    {
     "name": "stdout",
     "output_type": "stream",
     "text": [
      "Mejores parametros: {'n_neighbors': 15, 'weights': 'distance'}\n",
      "Mejor Score: 0.8840220734471987\n",
      "\n"
     ]
    }
   ],
   "source": [
    "from sklearn.neighbors import KNeighborsRegressor\n",
    "from sklearn.model_selection import GridSearchCV\n",
    "\n",
    "knn_regressor = KNeighborsRegressor()\n",
    "\n",
    "param_grid = {'n_neighbors': [0,5,10,15],\n",
    "               'weights' : ['uniform', 'distance']}\n",
    "\n",
    "knn_regr_GS = GridSearchCV(knn_regressor, param_grid=param_grid, cv=5)\n",
    "\n",
    "knn_regr_GS.fit(X_train, y_train)\n",
    "print(\"Mejores parametros: \"+str(knn_regr_GS.best_params_))\n",
    "print(\"Mejor Score: \"+str(knn_regr_GS.best_score_)+'\\n')\n",
    "\n",
    "y_test_pred = knn_regr_GS.predict(X_test)\n",
    "y_train_pred = knn_regr_GS.predict(X_train)"
   ]
  },
  {
   "cell_type": "code",
   "execution_count": 32,
   "metadata": {},
   "outputs": [
    {
     "name": "stdout",
     "output_type": "stream",
     "text": [
      "Raíz del error cuadrático medio en Train: 6523.888668285026\n",
      "Raíz del error cuadrático medio en Test: 28629.170441154653\n"
     ]
    },
    {
     "data": {
      "image/png": "[encoded data removed]",
      "text/plain": [
       "<Figure size 1080x504 with 2 Axes>"
      ]
     },
     "metadata": {
      "needs_background": "light"
     },
     "output_type": "display_data"
    }
   ],
   "source": [
    "eval_model (X_train, X_test, y_train, y_test, y_train_pred, y_test_pred)"
   ]
  },
  {
   "cell_type": "markdown",
   "metadata": {},
   "source": [
    "#### __6 - Puesta en producción__"
   ]
  },
  {
   "cell_type": "code",
   "execution_count": null,
   "metadata": {},
   "outputs": [],
   "source": [
    "scaler_final = StandardScaler()\n",
    "X = scaler_final.fit_transform(X)\n",
    "knn_regressor = KNeighborsRegressor(n_neighbors=15, weights='distance')\n",
    "knn_regressor.fit(X, y)\n",
    "model = {\"modelo\":knn_regressor,\n",
    "         \"scaler\":scaler_final}"
   ]
  },
  {
   "cell_type": "code",
   "execution_count": null,
   "metadata": {},
   "outputs": [],
   "source": [
    "import pickle\n",
    "with open('./tmp/model.pickle','wb') as file:\n",
    "    pickle.dump(model, file)"
   ]
  }
 ],
 "metadata": {
  "colab": {
   "collapsed_sections": [],
   "name": "DS_Proyecto_01.ipynb",
   "provenance": []
  },
  "kernelspec": {
   "display_name": "Python 3",
   "language": "python",
   "name": "python3"
  },
  "language_info": {
   "codemirror_mode": {
    "name": "ipython",
    "version": 3
   },
   "file_extension": ".py",
   "mimetype": "text/x-python",
   "name": "python",
   "nbconvert_exporter": "python",
   "pygments_lexer": "ipython3",
   "version": "3.8.5"
  }
 },
 "nbformat": 4,
 "nbformat_minor": 4
}